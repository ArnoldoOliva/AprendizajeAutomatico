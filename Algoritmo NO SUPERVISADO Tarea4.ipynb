{
 "cells": [
  {
   "cell_type": "code",
   "execution_count": 1,
   "metadata": {},
   "outputs": [],
   "source": [
    "import pandas as pd\n",
    "import numpy as np\n",
    "path=\"C:/Users/HUGO/Desktop/Maestria en CIENCIA DE DATOS UANL/Aprendizaje automatico/\"\n",
    "pd.set_option(\"display.max_columns\",None)\n",
    "#! pip install -U celer\n",
    "from celer import GroupLasso"
   ]
  },
  {
   "cell_type": "markdown",
   "metadata": {},
   "source": [
    "Este archivo contiene datos de 2001-2006 para evitar tener datos de las crisis económicas, para aislar el estudio suponiendo un crecimiento económico constante, y otras modificaciones como categorizacion de columnas, de strings, etc."
   ]
  },
  {
   "cell_type": "code",
   "execution_count": 33,
   "metadata": {
    "collapsed": true
   },
   "outputs": [
    {
     "data": {
      "text/html": [
       "<div>\n",
       "<style scoped>\n",
       "    .dataframe tbody tr th:only-of-type {\n",
       "        vertical-align: middle;\n",
       "    }\n",
       "\n",
       "    .dataframe tbody tr th {\n",
       "        vertical-align: top;\n",
       "    }\n",
       "\n",
       "    .dataframe thead th {\n",
       "        text-align: right;\n",
       "    }\n",
       "</style>\n",
       "<table border=\"1\" class=\"dataframe\">\n",
       "  <thead>\n",
       "    <tr style=\"text-align: right;\">\n",
       "      <th></th>\n",
       "      <th>ApprovalDate</th>\n",
       "      <th>Term</th>\n",
       "      <th>NoEmp</th>\n",
       "      <th>NewExist</th>\n",
       "      <th>CreateJob</th>\n",
       "      <th>RetainedJob</th>\n",
       "      <th>UrbanRural</th>\n",
       "      <th>RevLineCr</th>\n",
       "      <th>LowDoc</th>\n",
       "      <th>DisbursementDate</th>\n",
       "      <th>DisbursementGross</th>\n",
       "      <th>BalanceGross</th>\n",
       "      <th>paid</th>\n",
       "      <th>ChgOffPrinGr</th>\n",
       "      <th>GrAppv</th>\n",
       "      <th>SBA_Appv</th>\n",
       "      <th>business</th>\n",
       "      <th>ID</th>\n",
       "      <th>same_state</th>\n",
       "      <th>APPROVALtimestamp</th>\n",
       "      <th>DISBURSEMENTtimestamp</th>\n",
       "      <th>timediff</th>\n",
       "      <th>Terms_comp</th>\n",
       "      <th>NAICStwo_digits</th>\n",
       "      <th>NAICS_cat</th>\n",
       "    </tr>\n",
       "  </thead>\n",
       "  <tbody>\n",
       "    <tr>\n",
       "      <th>0</th>\n",
       "      <td>2000-01-04</td>\n",
       "      <td>47</td>\n",
       "      <td>20</td>\n",
       "      <td>1.0</td>\n",
       "      <td>0</td>\n",
       "      <td>0</td>\n",
       "      <td>2.0</td>\n",
       "      <td>1.0</td>\n",
       "      <td>0</td>\n",
       "      <td>2004-10-31</td>\n",
       "      <td>35000.0</td>\n",
       "      <td>0.0</td>\n",
       "      <td>0.0</td>\n",
       "      <td>13722.0</td>\n",
       "      <td>35000.0</td>\n",
       "      <td>17500.0</td>\n",
       "      <td>1</td>\n",
       "      <td>507</td>\n",
       "      <td>0.0</td>\n",
       "      <td>9.469440e+08</td>\n",
       "      <td>1.099181e+09</td>\n",
       "      <td>152236800.0</td>\n",
       "      <td>1.0</td>\n",
       "      <td>23</td>\n",
       "      <td>Construction</td>\n",
       "    </tr>\n",
       "    <tr>\n",
       "      <th>1</th>\n",
       "      <td>2000-01-31</td>\n",
       "      <td>60</td>\n",
       "      <td>2</td>\n",
       "      <td>2.0</td>\n",
       "      <td>0</td>\n",
       "      <td>0</td>\n",
       "      <td>1.0</td>\n",
       "      <td>0.0</td>\n",
       "      <td>0</td>\n",
       "      <td>2000-05-31</td>\n",
       "      <td>120000.0</td>\n",
       "      <td>0.0</td>\n",
       "      <td>1.0</td>\n",
       "      <td>0.0</td>\n",
       "      <td>120000.0</td>\n",
       "      <td>60000.0</td>\n",
       "      <td>2</td>\n",
       "      <td>509</td>\n",
       "      <td>0.0</td>\n",
       "      <td>9.492768e+08</td>\n",
       "      <td>9.597312e+08</td>\n",
       "      <td>10454400.0</td>\n",
       "      <td>1.0</td>\n",
       "      <td>0</td>\n",
       "      <td>NaN</td>\n",
       "    </tr>\n",
       "    <tr>\n",
       "      <th>2</th>\n",
       "      <td>2000-02-01</td>\n",
       "      <td>84</td>\n",
       "      <td>7</td>\n",
       "      <td>2.0</td>\n",
       "      <td>0</td>\n",
       "      <td>0</td>\n",
       "      <td>1.0</td>\n",
       "      <td>0.0</td>\n",
       "      <td>0</td>\n",
       "      <td>2000-03-31</td>\n",
       "      <td>20000.0</td>\n",
       "      <td>0.0</td>\n",
       "      <td>1.0</td>\n",
       "      <td>0.0</td>\n",
       "      <td>20000.0</td>\n",
       "      <td>10000.0</td>\n",
       "      <td>3</td>\n",
       "      <td>512</td>\n",
       "      <td>0.0</td>\n",
       "      <td>9.493632e+08</td>\n",
       "      <td>9.544608e+08</td>\n",
       "      <td>5097600.0</td>\n",
       "      <td>1.0</td>\n",
       "      <td>0</td>\n",
       "      <td>NaN</td>\n",
       "    </tr>\n",
       "    <tr>\n",
       "      <th>3</th>\n",
       "      <td>2000-02-04</td>\n",
       "      <td>48</td>\n",
       "      <td>1</td>\n",
       "      <td>2.0</td>\n",
       "      <td>0</td>\n",
       "      <td>0</td>\n",
       "      <td>1.0</td>\n",
       "      <td>0.0</td>\n",
       "      <td>0</td>\n",
       "      <td>2000-02-29</td>\n",
       "      <td>15000.0</td>\n",
       "      <td>0.0</td>\n",
       "      <td>1.0</td>\n",
       "      <td>0.0</td>\n",
       "      <td>15000.0</td>\n",
       "      <td>7500.0</td>\n",
       "      <td>4</td>\n",
       "      <td>514</td>\n",
       "      <td>0.0</td>\n",
       "      <td>9.496224e+08</td>\n",
       "      <td>9.517824e+08</td>\n",
       "      <td>2160000.0</td>\n",
       "      <td>1.0</td>\n",
       "      <td>0</td>\n",
       "      <td>NaN</td>\n",
       "    </tr>\n",
       "    <tr>\n",
       "      <th>4</th>\n",
       "      <td>2000-02-16</td>\n",
       "      <td>84</td>\n",
       "      <td>55</td>\n",
       "      <td>2.0</td>\n",
       "      <td>0</td>\n",
       "      <td>0</td>\n",
       "      <td>1.0</td>\n",
       "      <td>0.0</td>\n",
       "      <td>0</td>\n",
       "      <td>2000-03-31</td>\n",
       "      <td>102000.0</td>\n",
       "      <td>0.0</td>\n",
       "      <td>1.0</td>\n",
       "      <td>0.0</td>\n",
       "      <td>102000.0</td>\n",
       "      <td>51000.0</td>\n",
       "      <td>5</td>\n",
       "      <td>516</td>\n",
       "      <td>0.0</td>\n",
       "      <td>9.506592e+08</td>\n",
       "      <td>9.544608e+08</td>\n",
       "      <td>3801600.0</td>\n",
       "      <td>1.0</td>\n",
       "      <td>72</td>\n",
       "      <td>Accommodation and food services</td>\n",
       "    </tr>\n",
       "    <tr>\n",
       "      <th>...</th>\n",
       "      <td>...</td>\n",
       "      <td>...</td>\n",
       "      <td>...</td>\n",
       "      <td>...</td>\n",
       "      <td>...</td>\n",
       "      <td>...</td>\n",
       "      <td>...</td>\n",
       "      <td>...</td>\n",
       "      <td>...</td>\n",
       "      <td>...</td>\n",
       "      <td>...</td>\n",
       "      <td>...</td>\n",
       "      <td>...</td>\n",
       "      <td>...</td>\n",
       "      <td>...</td>\n",
       "      <td>...</td>\n",
       "      <td>...</td>\n",
       "      <td>...</td>\n",
       "      <td>...</td>\n",
       "      <td>...</td>\n",
       "      <td>...</td>\n",
       "      <td>...</td>\n",
       "      <td>...</td>\n",
       "      <td>...</td>\n",
       "      <td>...</td>\n",
       "    </tr>\n",
       "    <tr>\n",
       "      <th>313700</th>\n",
       "      <td>2005-12-30</td>\n",
       "      <td>14</td>\n",
       "      <td>25</td>\n",
       "      <td>1.0</td>\n",
       "      <td>1</td>\n",
       "      <td>25</td>\n",
       "      <td>1.0</td>\n",
       "      <td>0.0</td>\n",
       "      <td>0</td>\n",
       "      <td>2005-12-31</td>\n",
       "      <td>15000.0</td>\n",
       "      <td>0.0</td>\n",
       "      <td>0.0</td>\n",
       "      <td>7327.0</td>\n",
       "      <td>15000.0</td>\n",
       "      <td>12750.0</td>\n",
       "      <td>276108</td>\n",
       "      <td>879716</td>\n",
       "      <td>0.0</td>\n",
       "      <td>1.135901e+09</td>\n",
       "      <td>1.135987e+09</td>\n",
       "      <td>86400.0</td>\n",
       "      <td>1.0</td>\n",
       "      <td>62</td>\n",
       "      <td>Health care and social assistance</td>\n",
       "    </tr>\n",
       "    <tr>\n",
       "      <th>313701</th>\n",
       "      <td>2005-12-30</td>\n",
       "      <td>252</td>\n",
       "      <td>5</td>\n",
       "      <td>2.0</td>\n",
       "      <td>0</td>\n",
       "      <td>5</td>\n",
       "      <td>2.0</td>\n",
       "      <td>0.0</td>\n",
       "      <td>0</td>\n",
       "      <td>2005-12-31</td>\n",
       "      <td>852100.0</td>\n",
       "      <td>0.0</td>\n",
       "      <td>1.0</td>\n",
       "      <td>0.0</td>\n",
       "      <td>852100.0</td>\n",
       "      <td>639075.0</td>\n",
       "      <td>276109</td>\n",
       "      <td>879727</td>\n",
       "      <td>0.0</td>\n",
       "      <td>1.135901e+09</td>\n",
       "      <td>1.135987e+09</td>\n",
       "      <td>86400.0</td>\n",
       "      <td>NaN</td>\n",
       "      <td>48</td>\n",
       "      <td>Transportation and warehousing</td>\n",
       "    </tr>\n",
       "    <tr>\n",
       "      <th>313702</th>\n",
       "      <td>2005-12-30</td>\n",
       "      <td>84</td>\n",
       "      <td>1</td>\n",
       "      <td>1.0</td>\n",
       "      <td>0</td>\n",
       "      <td>1</td>\n",
       "      <td>1.0</td>\n",
       "      <td>0.0</td>\n",
       "      <td>0</td>\n",
       "      <td>2005-12-31</td>\n",
       "      <td>15000.0</td>\n",
       "      <td>0.0</td>\n",
       "      <td>1.0</td>\n",
       "      <td>0.0</td>\n",
       "      <td>15000.0</td>\n",
       "      <td>12750.0</td>\n",
       "      <td>276110</td>\n",
       "      <td>879807</td>\n",
       "      <td>0.0</td>\n",
       "      <td>1.135901e+09</td>\n",
       "      <td>1.135987e+09</td>\n",
       "      <td>86400.0</td>\n",
       "      <td>1.0</td>\n",
       "      <td>51</td>\n",
       "      <td>Information</td>\n",
       "    </tr>\n",
       "    <tr>\n",
       "      <th>313703</th>\n",
       "      <td>2005-12-30</td>\n",
       "      <td>84</td>\n",
       "      <td>5</td>\n",
       "      <td>1.0</td>\n",
       "      <td>2</td>\n",
       "      <td>5</td>\n",
       "      <td>1.0</td>\n",
       "      <td>0.0</td>\n",
       "      <td>0</td>\n",
       "      <td>2005-12-31</td>\n",
       "      <td>5000.0</td>\n",
       "      <td>0.0</td>\n",
       "      <td>1.0</td>\n",
       "      <td>0.0</td>\n",
       "      <td>5000.0</td>\n",
       "      <td>4250.0</td>\n",
       "      <td>276111</td>\n",
       "      <td>879868</td>\n",
       "      <td>0.0</td>\n",
       "      <td>1.135901e+09</td>\n",
       "      <td>1.135987e+09</td>\n",
       "      <td>86400.0</td>\n",
       "      <td>1.0</td>\n",
       "      <td>42</td>\n",
       "      <td>Wholesale trade</td>\n",
       "    </tr>\n",
       "    <tr>\n",
       "      <th>313704</th>\n",
       "      <td>2005-12-30</td>\n",
       "      <td>38</td>\n",
       "      <td>3</td>\n",
       "      <td>1.0</td>\n",
       "      <td>0</td>\n",
       "      <td>3</td>\n",
       "      <td>2.0</td>\n",
       "      <td>0.0</td>\n",
       "      <td>0</td>\n",
       "      <td>2005-12-31</td>\n",
       "      <td>212400.0</td>\n",
       "      <td>0.0</td>\n",
       "      <td>1.0</td>\n",
       "      <td>0.0</td>\n",
       "      <td>212400.0</td>\n",
       "      <td>106200.0</td>\n",
       "      <td>276112</td>\n",
       "      <td>879964</td>\n",
       "      <td>1.0</td>\n",
       "      <td>1.135901e+09</td>\n",
       "      <td>1.135987e+09</td>\n",
       "      <td>86400.0</td>\n",
       "      <td>1.0</td>\n",
       "      <td>53</td>\n",
       "      <td>Real estate and rental and leasing</td>\n",
       "    </tr>\n",
       "  </tbody>\n",
       "</table>\n",
       "<p>313705 rows × 25 columns</p>\n",
       "</div>"
      ],
      "text/plain": [
       "       ApprovalDate  Term  NoEmp  NewExist  CreateJob  RetainedJob  \\\n",
       "0        2000-01-04    47     20       1.0          0            0   \n",
       "1        2000-01-31    60      2       2.0          0            0   \n",
       "2        2000-02-01    84      7       2.0          0            0   \n",
       "3        2000-02-04    48      1       2.0          0            0   \n",
       "4        2000-02-16    84     55       2.0          0            0   \n",
       "...             ...   ...    ...       ...        ...          ...   \n",
       "313700   2005-12-30    14     25       1.0          1           25   \n",
       "313701   2005-12-30   252      5       2.0          0            5   \n",
       "313702   2005-12-30    84      1       1.0          0            1   \n",
       "313703   2005-12-30    84      5       1.0          2            5   \n",
       "313704   2005-12-30    38      3       1.0          0            3   \n",
       "\n",
       "        UrbanRural  RevLineCr  LowDoc DisbursementDate  DisbursementGross  \\\n",
       "0              2.0        1.0       0       2004-10-31            35000.0   \n",
       "1              1.0        0.0       0       2000-05-31           120000.0   \n",
       "2              1.0        0.0       0       2000-03-31            20000.0   \n",
       "3              1.0        0.0       0       2000-02-29            15000.0   \n",
       "4              1.0        0.0       0       2000-03-31           102000.0   \n",
       "...            ...        ...     ...              ...                ...   \n",
       "313700         1.0        0.0       0       2005-12-31            15000.0   \n",
       "313701         2.0        0.0       0       2005-12-31           852100.0   \n",
       "313702         1.0        0.0       0       2005-12-31            15000.0   \n",
       "313703         1.0        0.0       0       2005-12-31             5000.0   \n",
       "313704         2.0        0.0       0       2005-12-31           212400.0   \n",
       "\n",
       "        BalanceGross  paid  ChgOffPrinGr    GrAppv  SBA_Appv  business  \\\n",
       "0                0.0   0.0       13722.0   35000.0   17500.0         1   \n",
       "1                0.0   1.0           0.0  120000.0   60000.0         2   \n",
       "2                0.0   1.0           0.0   20000.0   10000.0         3   \n",
       "3                0.0   1.0           0.0   15000.0    7500.0         4   \n",
       "4                0.0   1.0           0.0  102000.0   51000.0         5   \n",
       "...              ...   ...           ...       ...       ...       ...   \n",
       "313700           0.0   0.0        7327.0   15000.0   12750.0    276108   \n",
       "313701           0.0   1.0           0.0  852100.0  639075.0    276109   \n",
       "313702           0.0   1.0           0.0   15000.0   12750.0    276110   \n",
       "313703           0.0   1.0           0.0    5000.0    4250.0    276111   \n",
       "313704           0.0   1.0           0.0  212400.0  106200.0    276112   \n",
       "\n",
       "            ID  same_state  APPROVALtimestamp  DISBURSEMENTtimestamp  \\\n",
       "0          507         0.0       9.469440e+08           1.099181e+09   \n",
       "1          509         0.0       9.492768e+08           9.597312e+08   \n",
       "2          512         0.0       9.493632e+08           9.544608e+08   \n",
       "3          514         0.0       9.496224e+08           9.517824e+08   \n",
       "4          516         0.0       9.506592e+08           9.544608e+08   \n",
       "...        ...         ...                ...                    ...   \n",
       "313700  879716         0.0       1.135901e+09           1.135987e+09   \n",
       "313701  879727         0.0       1.135901e+09           1.135987e+09   \n",
       "313702  879807         0.0       1.135901e+09           1.135987e+09   \n",
       "313703  879868         0.0       1.135901e+09           1.135987e+09   \n",
       "313704  879964         1.0       1.135901e+09           1.135987e+09   \n",
       "\n",
       "           timediff  Terms_comp  NAICStwo_digits  \\\n",
       "0       152236800.0         1.0               23   \n",
       "1        10454400.0         1.0                0   \n",
       "2         5097600.0         1.0                0   \n",
       "3         2160000.0         1.0                0   \n",
       "4         3801600.0         1.0               72   \n",
       "...             ...         ...              ...   \n",
       "313700      86400.0         1.0               62   \n",
       "313701      86400.0         NaN               48   \n",
       "313702      86400.0         1.0               51   \n",
       "313703      86400.0         1.0               42   \n",
       "313704      86400.0         1.0               53   \n",
       "\n",
       "                                 NAICS_cat  \n",
       "0                             Construction  \n",
       "1                                      NaN  \n",
       "2                                      NaN  \n",
       "3                                      NaN  \n",
       "4          Accommodation and food services  \n",
       "...                                    ...  \n",
       "313700   Health care and social assistance  \n",
       "313701      Transportation and warehousing  \n",
       "313702                         Information  \n",
       "313703                     Wholesale trade  \n",
       "313704  Real estate and rental and leasing  \n",
       "\n",
       "[313705 rows x 25 columns]"
      ]
     },
     "execution_count": 33,
     "metadata": {},
     "output_type": "execute_result"
    }
   ],
   "source": [
    "loans=pd.read_csv(path+\"loansmodified1.csv\")\n",
    "loans"
   ]
  },
  {
   "cell_type": "markdown",
   "metadata": {},
   "source": [
    "Modificaciones adicionales para NAICS"
   ]
  },
  {
   "cell_type": "code",
   "execution_count": 10,
   "metadata": {
    "collapsed": true
   },
   "outputs": [
    {
     "data": {
      "text/plain": [
       "44    39592\n",
       "72    36521\n",
       "81    31357\n",
       "54    27947\n",
       "23    24815\n",
       "62    21614\n",
       "42    19724\n",
       "45    17331\n",
       "56    16106\n",
       "33    15722\n",
       "0     12977\n",
       "48     8302\n",
       "32     7879\n",
       "71     6116\n",
       "53     5389\n",
       "51     5234\n",
       "31     4959\n",
       "52     4634\n",
       "61     3125\n",
       "11     2342\n",
       "49     1119\n",
       "21      530\n",
       "22      251\n",
       "55       89\n",
       "92       30\n",
       "Name: NAICStwo_digits, dtype: int64"
      ]
     },
     "execution_count": 10,
     "metadata": {},
     "output_type": "execute_result"
    }
   ],
   "source": [
    "loans[\"NAICS\"].nunique()\n",
    "loans['NAICStwo_digits'] = loans['NAICS'].astype(str).str[:2]\n",
    "loans[\"NAICStwo_digits\"].value_counts()"
   ]
  },
  {
   "cell_type": "code",
   "execution_count": 11,
   "metadata": {},
   "outputs": [],
   "source": [
    "loans[\"NAICS_cat\"]=loans[\"NAICStwo_digits\"].map({\"11\":\"Agriculture, forestry, fishing and hunting\",\n",
    "    \"21\" :\"Mining, quarrying, and oil and gas extraction\",\n",
    "    \"22\" :\"Utilities\",\n",
    "    \"23\" :\"Construction\",\n",
    "    \"31\": \"Manufacturing\",\"32\": \"Manufacturing\",\"33\": \"Manufacturing\",\n",
    "    \"42\" :\"Wholesale trade\",\n",
    "    \"44\" :\"Retail trade\",\"45\" :\"Retail trade\",\n",
    "    \"48\" :\"Transportation and warehousing\",\"49\" :\"Transportation and warehousing\",\n",
    "    \"51\" :\"Information\",\n",
    "    \"52\" :\"Finance and insurance\",\n",
    "    \"53\" :\"Real estate and rental and leasing\",\n",
    "    \"54\" :\"Professional, scientific, and technical services\",\n",
    "    \"55\" :\"Management of companies and enterprises\",\n",
    "    \"56\" :\"Administrative and support and waste management and remediation services\",\n",
    "    \"61\" :\"Educational services\",\n",
    "    \"62\" :\"Health care and social assistance\",\n",
    "    \"71\" :\"Arts, entertainment, and recreation\",\n",
    "    \"72\" :\"Accommodation and food services\",\n",
    "    \"81\" :\"Other services (except public administration)\",\n",
    "    \"92\" :\"Public administration\" \n",
    "}\n",
    ")"
   ]
  },
  {
   "cell_type": "code",
   "execution_count": 12,
   "metadata": {
    "collapsed": true
   },
   "outputs": [
    {
     "data": {
      "text/plain": [
       "Retail trade                                                                56923\n",
       "Accommodation and food services                                             36521\n",
       "Other services (except public administration)                               31357\n",
       "Manufacturing                                                               28560\n",
       "Professional, scientific, and technical services                            27947\n",
       "Construction                                                                24815\n",
       "Health care and social assistance                                           21614\n",
       "Wholesale trade                                                             19724\n",
       "Administrative and support and waste management and remediation services    16106\n",
       "Transportation and warehousing                                               9421\n",
       "Arts, entertainment, and recreation                                          6116\n",
       "Real estate and rental and leasing                                           5389\n",
       "Information                                                                  5234\n",
       "Finance and insurance                                                        4634\n",
       "Educational services                                                         3125\n",
       "Agriculture, forestry, fishing and hunting                                   2342\n",
       "Mining, quarrying, and oil and gas extraction                                 530\n",
       "Utilities                                                                     251\n",
       "Management of companies and enterprises                                        89\n",
       "Public administration                                                          30\n",
       "Name: NAICS_cat, dtype: int64"
      ]
     },
     "execution_count": 12,
     "metadata": {},
     "output_type": "execute_result"
    }
   ],
   "source": [
    "loans.loc[loans[\"NAICS\"]==0,[\"NAICS\",\"SCIAN category\",\"NAICS_cat\"]]=np.nan\n",
    "loans[\"NAICS_cat\"].value_counts()"
   ]
  },
  {
   "cell_type": "code",
   "execution_count": 39,
   "metadata": {},
   "outputs": [],
   "source": [
    "#loans.to_csv(path+\"loansmodified2.csv\",index=False)"
   ]
  },
  {
   "cell_type": "code",
   "execution_count": 23,
   "metadata": {
    "scrolled": true
   },
   "outputs": [],
   "source": [
    "#loans.drop([\"NAICS\",\"FranchiseCode\",\"SCIAN category\"],axis=1,inplace=True)\n",
    "loans.to_csv(path+\"loansmodified3.csv\",index=False) #dropeando algunas del scian"
   ]
  },
  {
   "cell_type": "markdown",
   "metadata": {},
   "source": [
    "**Leer a partir de aqui:**"
   ]
  },
  {
   "cell_type": "code",
   "execution_count": 23,
   "metadata": {},
   "outputs": [],
   "source": [
    "loans=pd.read_csv(path+\"loansmodified3.csv\")\n",
    "#loans"
   ]
  },
  {
   "cell_type": "code",
   "execution_count": 24,
   "metadata": {},
   "outputs": [
    {
     "data": {
      "text/plain": [
       "0    199463\n",
       "1    114242\n",
       "Name: CreateJob, dtype: int64"
      ]
     },
     "execution_count": 24,
     "metadata": {},
     "output_type": "execute_result"
    }
   ],
   "source": [
    "loans.loc[loans.CreateJob>0,\"CreateJob\"]=1\n",
    "loans.loc[loans.CreateJob==0,\"CreateJob\"]=0\n",
    "loans[\"CreateJob\"].value_counts()\n"
   ]
  },
  {
   "cell_type": "code",
   "execution_count": 25,
   "metadata": {},
   "outputs": [
    {
     "data": {
      "text/plain": [
       "1    209433\n",
       "0    104272\n",
       "Name: RetainedJob, dtype: int64"
      ]
     },
     "execution_count": 25,
     "metadata": {},
     "output_type": "execute_result"
    }
   ],
   "source": [
    "loans.loc[loans.RetainedJob>0,\"RetainedJob\"]=1\n",
    "loans.loc[loans.RetainedJob==0,\"RetainedJob\"]=0\n",
    "loans[\"RetainedJob\"].value_counts()\n"
   ]
  },
  {
   "cell_type": "code",
   "execution_count": 26,
   "metadata": {},
   "outputs": [],
   "source": [
    "loans=loans[~loans[\"paid\"].isna()]\n",
    "#loans.isna().sum()"
   ]
  },
  {
   "cell_type": "code",
   "execution_count": 58,
   "metadata": {
    "scrolled": true
   },
   "outputs": [
    {
     "data": {
      "text/plain": [
       "Retail trade                                                                56822\n",
       "Accommodation and food services                                             36487\n",
       "Other services (except public administration)                               31270\n",
       "Manufacturing                                                               28511\n",
       "Professional, scientific, and technical services                            27858\n",
       "Construction                                                                24765\n",
       "Health care and social assistance                                           21582\n",
       "Wholesale trade                                                             19696\n",
       "Administrative and support and waste management and remediation services    16050\n",
       "Transportation and warehousing                                               9398\n",
       "Arts, entertainment, and recreation                                          6110\n",
       "Real estate and rental and leasing                                           5374\n",
       "Information                                                                  5227\n",
       "Finance and insurance                                                        4625\n",
       "Educational services                                                         3115\n",
       "Agriculture, forestry, fishing and hunting                                   2342\n",
       "Mining, quarrying, and oil and gas extraction                                 530\n",
       "Utilities                                                                     250\n",
       "Management of companies and enterprises                                        89\n",
       "Public administration                                                          30\n",
       "Name: NAICS_cat, dtype: int64"
      ]
     },
     "execution_count": 58,
     "metadata": {},
     "output_type": "execute_result"
    }
   ],
   "source": [
    "loans[\"NAICS_cat\"].value_counts()"
   ]
  },
  {
   "cell_type": "code",
   "execution_count": 11,
   "metadata": {
    "scrolled": true
   },
   "outputs": [],
   "source": [
    "to_scale=[\"Term\",\"NoEmp\",\"DisbursementGross\",\"BalanceGross\",\"GrAppv\",\"SBA_Appv\",\"timediff\",\"ChgOffPrinGr\"]"
   ]
  },
  {
   "cell_type": "code",
   "execution_count": 12,
   "metadata": {},
   "outputs": [],
   "source": [
    "#escalarlo y volver a intentarlo\n",
    "from sklearn.preprocessing import MinMaxScaler\n",
    "scaler = MinMaxScaler()\n",
    "scaled = scaler.fit_transform(loans[to_scale])"
   ]
  },
  {
   "cell_type": "code",
   "execution_count": 13,
   "metadata": {},
   "outputs": [],
   "source": [
    "loans[to_scale]=scaled"
   ]
  },
  {
   "cell_type": "code",
   "execution_count": 27,
   "metadata": {
    "scrolled": true
   },
   "outputs": [
    {
     "data": {
      "text/html": [
       "<div>\n",
       "<style scoped>\n",
       "    .dataframe tbody tr th:only-of-type {\n",
       "        vertical-align: middle;\n",
       "    }\n",
       "\n",
       "    .dataframe tbody tr th {\n",
       "        vertical-align: top;\n",
       "    }\n",
       "\n",
       "    .dataframe thead th {\n",
       "        text-align: right;\n",
       "    }\n",
       "</style>\n",
       "<table border=\"1\" class=\"dataframe\">\n",
       "  <thead>\n",
       "    <tr style=\"text-align: right;\">\n",
       "      <th></th>\n",
       "      <th>Term</th>\n",
       "      <th>NoEmp</th>\n",
       "      <th>DisbursementGross</th>\n",
       "      <th>BalanceGross</th>\n",
       "      <th>ChgOffPrinGr</th>\n",
       "      <th>GrAppv</th>\n",
       "      <th>SBA_Appv</th>\n",
       "      <th>timediff</th>\n",
       "      <th>NewExist_2.0</th>\n",
       "      <th>UrbanRural_2.0</th>\n",
       "      <th>RevLineCr_1.0</th>\n",
       "      <th>NAICS_cat_Manufacturing</th>\n",
       "      <th>NAICS_cat_Other services (except public administration)</th>\n",
       "      <th>NAICS_cat_Professional, scientific, and technical services</th>\n",
       "      <th>NAICS_cat_Retail trade</th>\n",
       "      <th>same_state_1.0</th>\n",
       "      <th>LowDoc_1</th>\n",
       "      <th>CreateJob_1</th>\n",
       "      <th>RetainedJob_1</th>\n",
       "    </tr>\n",
       "  </thead>\n",
       "  <tbody>\n",
       "    <tr>\n",
       "      <th>0</th>\n",
       "      <td>47</td>\n",
       "      <td>20</td>\n",
       "      <td>35000.0</td>\n",
       "      <td>0.0</td>\n",
       "      <td>13722.0</td>\n",
       "      <td>35000.0</td>\n",
       "      <td>17500.0</td>\n",
       "      <td>152236800.0</td>\n",
       "      <td>0</td>\n",
       "      <td>1</td>\n",
       "      <td>1</td>\n",
       "      <td>0</td>\n",
       "      <td>0</td>\n",
       "      <td>0</td>\n",
       "      <td>0</td>\n",
       "      <td>0</td>\n",
       "      <td>0</td>\n",
       "      <td>0</td>\n",
       "      <td>0</td>\n",
       "    </tr>\n",
       "    <tr>\n",
       "      <th>1</th>\n",
       "      <td>60</td>\n",
       "      <td>2</td>\n",
       "      <td>120000.0</td>\n",
       "      <td>0.0</td>\n",
       "      <td>0.0</td>\n",
       "      <td>120000.0</td>\n",
       "      <td>60000.0</td>\n",
       "      <td>10454400.0</td>\n",
       "      <td>1</td>\n",
       "      <td>0</td>\n",
       "      <td>0</td>\n",
       "      <td>0</td>\n",
       "      <td>0</td>\n",
       "      <td>0</td>\n",
       "      <td>0</td>\n",
       "      <td>0</td>\n",
       "      <td>0</td>\n",
       "      <td>0</td>\n",
       "      <td>0</td>\n",
       "    </tr>\n",
       "    <tr>\n",
       "      <th>2</th>\n",
       "      <td>84</td>\n",
       "      <td>7</td>\n",
       "      <td>20000.0</td>\n",
       "      <td>0.0</td>\n",
       "      <td>0.0</td>\n",
       "      <td>20000.0</td>\n",
       "      <td>10000.0</td>\n",
       "      <td>5097600.0</td>\n",
       "      <td>1</td>\n",
       "      <td>0</td>\n",
       "      <td>0</td>\n",
       "      <td>0</td>\n",
       "      <td>0</td>\n",
       "      <td>0</td>\n",
       "      <td>0</td>\n",
       "      <td>0</td>\n",
       "      <td>0</td>\n",
       "      <td>0</td>\n",
       "      <td>0</td>\n",
       "    </tr>\n",
       "    <tr>\n",
       "      <th>3</th>\n",
       "      <td>48</td>\n",
       "      <td>1</td>\n",
       "      <td>15000.0</td>\n",
       "      <td>0.0</td>\n",
       "      <td>0.0</td>\n",
       "      <td>15000.0</td>\n",
       "      <td>7500.0</td>\n",
       "      <td>2160000.0</td>\n",
       "      <td>1</td>\n",
       "      <td>0</td>\n",
       "      <td>0</td>\n",
       "      <td>0</td>\n",
       "      <td>0</td>\n",
       "      <td>0</td>\n",
       "      <td>0</td>\n",
       "      <td>0</td>\n",
       "      <td>0</td>\n",
       "      <td>0</td>\n",
       "      <td>0</td>\n",
       "    </tr>\n",
       "    <tr>\n",
       "      <th>4</th>\n",
       "      <td>84</td>\n",
       "      <td>55</td>\n",
       "      <td>102000.0</td>\n",
       "      <td>0.0</td>\n",
       "      <td>0.0</td>\n",
       "      <td>102000.0</td>\n",
       "      <td>51000.0</td>\n",
       "      <td>3801600.0</td>\n",
       "      <td>1</td>\n",
       "      <td>0</td>\n",
       "      <td>0</td>\n",
       "      <td>0</td>\n",
       "      <td>0</td>\n",
       "      <td>0</td>\n",
       "      <td>0</td>\n",
       "      <td>0</td>\n",
       "      <td>0</td>\n",
       "      <td>0</td>\n",
       "      <td>0</td>\n",
       "    </tr>\n",
       "    <tr>\n",
       "      <th>...</th>\n",
       "      <td>...</td>\n",
       "      <td>...</td>\n",
       "      <td>...</td>\n",
       "      <td>...</td>\n",
       "      <td>...</td>\n",
       "      <td>...</td>\n",
       "      <td>...</td>\n",
       "      <td>...</td>\n",
       "      <td>...</td>\n",
       "      <td>...</td>\n",
       "      <td>...</td>\n",
       "      <td>...</td>\n",
       "      <td>...</td>\n",
       "      <td>...</td>\n",
       "      <td>...</td>\n",
       "      <td>...</td>\n",
       "      <td>...</td>\n",
       "      <td>...</td>\n",
       "      <td>...</td>\n",
       "    </tr>\n",
       "    <tr>\n",
       "      <th>313700</th>\n",
       "      <td>14</td>\n",
       "      <td>25</td>\n",
       "      <td>15000.0</td>\n",
       "      <td>0.0</td>\n",
       "      <td>7327.0</td>\n",
       "      <td>15000.0</td>\n",
       "      <td>12750.0</td>\n",
       "      <td>86400.0</td>\n",
       "      <td>0</td>\n",
       "      <td>0</td>\n",
       "      <td>0</td>\n",
       "      <td>0</td>\n",
       "      <td>0</td>\n",
       "      <td>0</td>\n",
       "      <td>0</td>\n",
       "      <td>0</td>\n",
       "      <td>0</td>\n",
       "      <td>1</td>\n",
       "      <td>1</td>\n",
       "    </tr>\n",
       "    <tr>\n",
       "      <th>313701</th>\n",
       "      <td>252</td>\n",
       "      <td>5</td>\n",
       "      <td>852100.0</td>\n",
       "      <td>0.0</td>\n",
       "      <td>0.0</td>\n",
       "      <td>852100.0</td>\n",
       "      <td>639075.0</td>\n",
       "      <td>86400.0</td>\n",
       "      <td>1</td>\n",
       "      <td>1</td>\n",
       "      <td>0</td>\n",
       "      <td>0</td>\n",
       "      <td>0</td>\n",
       "      <td>0</td>\n",
       "      <td>0</td>\n",
       "      <td>0</td>\n",
       "      <td>0</td>\n",
       "      <td>0</td>\n",
       "      <td>1</td>\n",
       "    </tr>\n",
       "    <tr>\n",
       "      <th>313702</th>\n",
       "      <td>84</td>\n",
       "      <td>1</td>\n",
       "      <td>15000.0</td>\n",
       "      <td>0.0</td>\n",
       "      <td>0.0</td>\n",
       "      <td>15000.0</td>\n",
       "      <td>12750.0</td>\n",
       "      <td>86400.0</td>\n",
       "      <td>0</td>\n",
       "      <td>0</td>\n",
       "      <td>0</td>\n",
       "      <td>0</td>\n",
       "      <td>0</td>\n",
       "      <td>0</td>\n",
       "      <td>0</td>\n",
       "      <td>0</td>\n",
       "      <td>0</td>\n",
       "      <td>0</td>\n",
       "      <td>1</td>\n",
       "    </tr>\n",
       "    <tr>\n",
       "      <th>313703</th>\n",
       "      <td>84</td>\n",
       "      <td>5</td>\n",
       "      <td>5000.0</td>\n",
       "      <td>0.0</td>\n",
       "      <td>0.0</td>\n",
       "      <td>5000.0</td>\n",
       "      <td>4250.0</td>\n",
       "      <td>86400.0</td>\n",
       "      <td>0</td>\n",
       "      <td>0</td>\n",
       "      <td>0</td>\n",
       "      <td>0</td>\n",
       "      <td>0</td>\n",
       "      <td>0</td>\n",
       "      <td>0</td>\n",
       "      <td>0</td>\n",
       "      <td>0</td>\n",
       "      <td>1</td>\n",
       "      <td>1</td>\n",
       "    </tr>\n",
       "    <tr>\n",
       "      <th>313704</th>\n",
       "      <td>38</td>\n",
       "      <td>3</td>\n",
       "      <td>212400.0</td>\n",
       "      <td>0.0</td>\n",
       "      <td>0.0</td>\n",
       "      <td>212400.0</td>\n",
       "      <td>106200.0</td>\n",
       "      <td>86400.0</td>\n",
       "      <td>0</td>\n",
       "      <td>1</td>\n",
       "      <td>0</td>\n",
       "      <td>0</td>\n",
       "      <td>0</td>\n",
       "      <td>0</td>\n",
       "      <td>0</td>\n",
       "      <td>1</td>\n",
       "      <td>0</td>\n",
       "      <td>0</td>\n",
       "      <td>1</td>\n",
       "    </tr>\n",
       "  </tbody>\n",
       "</table>\n",
       "<p>313094 rows × 19 columns</p>\n",
       "</div>"
      ],
      "text/plain": [
       "        Term  NoEmp  DisbursementGross  BalanceGross  ChgOffPrinGr    GrAppv  \\\n",
       "0         47     20            35000.0           0.0       13722.0   35000.0   \n",
       "1         60      2           120000.0           0.0           0.0  120000.0   \n",
       "2         84      7            20000.0           0.0           0.0   20000.0   \n",
       "3         48      1            15000.0           0.0           0.0   15000.0   \n",
       "4         84     55           102000.0           0.0           0.0  102000.0   \n",
       "...      ...    ...                ...           ...           ...       ...   \n",
       "313700    14     25            15000.0           0.0        7327.0   15000.0   \n",
       "313701   252      5           852100.0           0.0           0.0  852100.0   \n",
       "313702    84      1            15000.0           0.0           0.0   15000.0   \n",
       "313703    84      5             5000.0           0.0           0.0    5000.0   \n",
       "313704    38      3           212400.0           0.0           0.0  212400.0   \n",
       "\n",
       "        SBA_Appv     timediff  NewExist_2.0  UrbanRural_2.0  RevLineCr_1.0  \\\n",
       "0        17500.0  152236800.0             0               1              1   \n",
       "1        60000.0   10454400.0             1               0              0   \n",
       "2        10000.0    5097600.0             1               0              0   \n",
       "3         7500.0    2160000.0             1               0              0   \n",
       "4        51000.0    3801600.0             1               0              0   \n",
       "...          ...          ...           ...             ...            ...   \n",
       "313700   12750.0      86400.0             0               0              0   \n",
       "313701  639075.0      86400.0             1               1              0   \n",
       "313702   12750.0      86400.0             0               0              0   \n",
       "313703    4250.0      86400.0             0               0              0   \n",
       "313704  106200.0      86400.0             0               1              0   \n",
       "\n",
       "        NAICS_cat_Manufacturing  \\\n",
       "0                             0   \n",
       "1                             0   \n",
       "2                             0   \n",
       "3                             0   \n",
       "4                             0   \n",
       "...                         ...   \n",
       "313700                        0   \n",
       "313701                        0   \n",
       "313702                        0   \n",
       "313703                        0   \n",
       "313704                        0   \n",
       "\n",
       "        NAICS_cat_Other services (except public administration)  \\\n",
       "0                                                       0         \n",
       "1                                                       0         \n",
       "2                                                       0         \n",
       "3                                                       0         \n",
       "4                                                       0         \n",
       "...                                                   ...         \n",
       "313700                                                  0         \n",
       "313701                                                  0         \n",
       "313702                                                  0         \n",
       "313703                                                  0         \n",
       "313704                                                  0         \n",
       "\n",
       "        NAICS_cat_Professional, scientific, and technical services  \\\n",
       "0                                                       0            \n",
       "1                                                       0            \n",
       "2                                                       0            \n",
       "3                                                       0            \n",
       "4                                                       0            \n",
       "...                                                   ...            \n",
       "313700                                                  0            \n",
       "313701                                                  0            \n",
       "313702                                                  0            \n",
       "313703                                                  0            \n",
       "313704                                                  0            \n",
       "\n",
       "        NAICS_cat_Retail trade  same_state_1.0  LowDoc_1  CreateJob_1  \\\n",
       "0                            0               0         0            0   \n",
       "1                            0               0         0            0   \n",
       "2                            0               0         0            0   \n",
       "3                            0               0         0            0   \n",
       "4                            0               0         0            0   \n",
       "...                        ...             ...       ...          ...   \n",
       "313700                       0               0         0            1   \n",
       "313701                       0               0         0            0   \n",
       "313702                       0               0         0            0   \n",
       "313703                       0               0         0            1   \n",
       "313704                       0               1         0            0   \n",
       "\n",
       "        RetainedJob_1  \n",
       "0                   0  \n",
       "1                   0  \n",
       "2                   0  \n",
       "3                   0  \n",
       "4                   0  \n",
       "...               ...  \n",
       "313700              1  \n",
       "313701              1  \n",
       "313702              1  \n",
       "313703              1  \n",
       "313704              1  \n",
       "\n",
       "[313094 rows x 19 columns]"
      ]
     },
     "execution_count": 27,
     "metadata": {},
     "output_type": "execute_result"
    }
   ],
   "source": [
    "#obtenemos variables categóricas\n",
    "categorical=[\"NewExist\",\"UrbanRural\",\"RevLineCr\",\"NAICS_cat\",\"same_state\",\"LowDoc\",\"CreateJob\",\"RetainedJob\"]#seleccionar categoricas\n",
    "loans_dummies = pd.get_dummies(loans, columns = categorical,drop_first=True) #to get k-1 variables\n",
    "y=loans_dummies[\"paid\"]\n",
    "loans_dummies=loans_dummies.drop([\"ApprovalDate\",\"DisbursementDate\",\"business\",\"ID\",\"NAICStwo_digits\",\"Terms_comp\",\"paid\",\"DISBURSEMENTtimestamp\",\"APPROVALtimestamp\"],axis=1)\n",
    "naics=[e for e in loans_dummies.columns if \"NAICS\" in e]\n",
    "loans_dummies2=loans_dummies.drop([e for e in naics if loans_dummies[e].sum()<27000],axis=1) #drop naics cat with few vals\n",
    "loans_dummies2"
   ]
  },
  {
   "cell_type": "code",
   "execution_count": 15,
   "metadata": {},
   "outputs": [
    {
     "data": {
      "text/plain": [
       "313094"
      ]
     },
     "execution_count": 15,
     "metadata": {},
     "output_type": "execute_result"
    }
   ],
   "source": [
    "len(y)"
   ]
  },
  {
   "cell_type": "markdown",
   "metadata": {},
   "source": [
    "**Lasso regression to filter features**\n",
    "\n",
    "Referencia:\n",
    "https://github.com/Badr-MOUFAD/beyond-OLS-med-supp-material"
   ]
  },
  {
   "cell_type": "code",
   "execution_count": 16,
   "metadata": {},
   "outputs": [],
   "source": [
    "from typing import List, Tuple\n",
    "import pandas as pd\n",
    "\n",
    "\n",
    "def adapt_to_group_lasso(X: pd.DataFrame) -> Tuple[pd.DataFrame, List[int]]:\n",
    "    \"\"\"Prepare dataframe to be fitted using a GroupLasso.\n",
    "    Parameters\n",
    "    ----------\n",
    "    X : pd.DataFrame\n",
    "        Dataframe. The columns of ``X`` shouldn't be one hot encoded.\n",
    "    Returns\n",
    "    -------\n",
    "    X_dummies: pd.DataFrame\n",
    "        X rearranged as continuous features, one-hot encoded\n",
    "        categorical features.\n",
    "    groups_size: list of int\n",
    "        list of group size where continuous\n",
    "        features are considered as group of size 1.\n",
    "    Note\n",
    "    ----\n",
    "    This function changes the order of columns in dataframe.\n",
    "    \"\"\"\n",
    "    X_rearranged = pd.concat((X.select_dtypes(exclude='object'),\n",
    "                              X.select_dtypes(include='object')),\n",
    "                             axis=1)\n",
    "    groups_size = []\n",
    "    for col in X_rearranged.columns:\n",
    "        is_categorical = X[col].dtype == 'object'\n",
    "        size = len(X[col].value_counts()) if is_categorical else 1\n",
    "        groups_size.append(size)\n",
    "\n",
    "    return pd.get_dummies(X_rearranged), groups_size\n",
    "\n",
    "\n",
    "if __name__ == '__main__':\n",
    "    pass"
   ]
  },
  {
   "cell_type": "code",
   "execution_count": 17,
   "metadata": {},
   "outputs": [],
   "source": [
    "from typing import List, Tuple\n",
    "\n",
    "import pandas as pd\n",
    "import numpy as np\n",
    "from celer import celer_path\n",
    "\n",
    "\n",
    "def score_features(X: pd.DataFrame,\n",
    "                   y: pd.DataFrame\n",
    "                   ) -> List[Tuple[str, float]]:\n",
    "    r\"\"\"Score features in dataframe using GroupLasso.\n",
    "    Score function:\n",
    "    .. math::\n",
    "        \\max \\{ \\frac{\\lambda}{\\lambda_{max}} \\ | \\ \\beta_j \\neq 0 \\}\n",
    "    Parameters\n",
    "    ----------\n",
    "    X : pd.DataFrame\n",
    "        Dataframe. Feature with ``object`` type are considered categorical.\n",
    "    y : pd.DataFrame\n",
    "        Target feature.\n",
    "    Returns\n",
    "    -------\n",
    "    List of tuples (feature_name, score)\n",
    "        Return a list of tuples with the name of feature and the corresponding score.\n",
    "        ``[(feature_name, score), ...]``.\n",
    "    \"\"\"\n",
    "    X_with_dummies, groups = adapt_to_group_lasso(X)\n",
    "\n",
    "    n_groups = len(groups)\n",
    "    grp_scores = np.zeros(n_groups)\n",
    "    grp_indices = np.append([0], np.cumsum(groups))\n",
    "\n",
    "    n_alphas = 100\n",
    "    alphas, coefs, _ = celer_path(X_with_dummies.values, y.values.flatten(),\n",
    "                                  pb='grouplasso', groups=groups,\n",
    "                                  n_alphas=n_alphas, eps=1e-6, prune=1)\n",
    "\n",
    "    for i in range(n_alphas):\n",
    "        for g in range(n_groups):\n",
    "            # skip groups whose scores are already computed\n",
    "            if grp_scores[g] != 0:\n",
    "                continue\n",
    "\n",
    "            # select group coefs\n",
    "            grp_g_indices = slice(grp_indices[g], grp_indices[g+1])\n",
    "            coefs_g = coefs[:, i][grp_g_indices]\n",
    "\n",
    "            if np.linalg.norm(coefs_g, ord=np.inf) > 0:\n",
    "                grp_scores[g] = alphas[i] / alphas[0]  # alpha / alpha_max\n",
    "\n",
    "    return list(zip(X.columns, grp_scores))\n",
    "\n",
    "\n",
    "if __name__ == '__main__':\n",
    "    pass\n"
   ]
  },
  {
   "cell_type": "code",
   "execution_count": 28,
   "metadata": {
    "scrolled": true
   },
   "outputs": [
    {
     "data": {
      "text/plain": [
       "GroupLasso(groups=[1, 1, 1, 1, 1, 1, 1, 1, 1, 1, 1, 1, 1, 1, 1, 1, 1, 1, 1])"
      ]
     },
     "execution_count": 28,
     "metadata": {},
     "output_type": "execute_result"
    }
   ],
   "source": [
    "# fit group lasso\n",
    "\n",
    "# pre processing\n",
    "X=loans_dummies2\n",
    "X_dummies, groups_sizes = adapt_to_group_lasso(X)\n",
    "\n",
    "# init and fit\n",
    "grp_lasso = GroupLasso(\n",
    "    groups=groups_sizes,\n",
    "    alpha=1.\n",
    ")\n",
    "\n",
    "grp_lasso.fit(X_dummies.values, y.values)"
   ]
  },
  {
   "cell_type": "code",
   "execution_count": 29,
   "metadata": {
    "scrolled": true
   },
   "outputs": [
    {
     "data": {
      "text/plain": [
       "[('Term', 0.0012735816323693248),\n",
       " ('NoEmp', 0.0),\n",
       " ('DisbursementGross', 1.322141398708561e-07),\n",
       " ('BalanceGross', -0.0),\n",
       " ('ChgOffPrinGr', -2.7522296072876003e-06),\n",
       " ('GrAppv', 2.020166917027226e-07),\n",
       " ('SBA_Appv', -3.4727122433093763e-07),\n",
       " ('timediff', 2.1019339379344198e-09),\n",
       " ('NewExist_2.0', 0.0),\n",
       " ('UrbanRural_2.0', 0.0),\n",
       " ('RevLineCr_1.0', 0.0),\n",
       " ('NAICS_cat_Manufacturing', 0.0),\n",
       " ('NAICS_cat_Other services (except public administration)', 0.0),\n",
       " ('NAICS_cat_Professional, scientific, and technical services', 0.0),\n",
       " ('NAICS_cat_Retail trade', 0.0),\n",
       " ('same_state_1.0', 0.0),\n",
       " ('LowDoc_1', 0.0),\n",
       " ('CreateJob_1', -0.0),\n",
       " ('RetainedJob_1', -0.0)]"
      ]
     },
     "execution_count": 29,
     "metadata": {},
     "output_type": "execute_result"
    }
   ],
   "source": [
    "# inspect solution\n",
    "list(zip(X_dummies.columns, grp_lasso.coef_)) #increiblemente, escalandolas salen resultados peores (todos 0)"
   ]
  },
  {
   "cell_type": "code",
   "execution_count": 30,
   "metadata": {},
   "outputs": [],
   "source": [
    "# score variables and sort\n",
    "scores = score_features(X, y)\n",
    "\n",
    "sorted_scores = sorted(scores, \n",
    "                       key=lambda item: item[1], \n",
    "                       reverse=True)"
   ]
  },
  {
   "cell_type": "code",
   "execution_count": 31,
   "metadata": {
    "collapsed": true
   },
   "outputs": [
    {
     "data": {
      "application/vnd.plotly.v1+json": {
       "config": {
        "plotlyServerURL": "https://plot.ly"
       },
       "data": [
        {
         "type": "bar",
         "x": [
          "timediff",
          "DisbursementGross",
          "ChgOffPrinGr",
          "GrAppv",
          "SBA_Appv",
          "Term",
          "NoEmp",
          "BalanceGross",
          "NewExist_2.0",
          "UrbanRural_2.0",
          "RevLineCr_1.0",
          "NAICS_cat_Manufacturing",
          "NAICS_cat_Other services (except public administration)",
          "NAICS_cat_Professional, scientific, and technical services",
          "NAICS_cat_Retail trade",
          "same_state_1.0",
          "LowDoc_1",
          "CreateJob_1",
          "RetainedJob_1"
         ],
         "y": [
          0.8697490026177833,
          0.01519911082952933,
          0.0012328467394420659,
          0.00026560877829466864,
          0.00026560877829466864,
          5.336699231206313e-06,
          0,
          0,
          0,
          0,
          0,
          0,
          0,
          0,
          0,
          0,
          0,
          0,
          0
         ]
        }
       ],
       "layout": {
        "template": {
         "data": {
          "bar": [
           {
            "error_x": {
             "color": "#2a3f5f"
            },
            "error_y": {
             "color": "#2a3f5f"
            },
            "marker": {
             "line": {
              "color": "#E5ECF6",
              "width": 0.5
             }
            },
            "type": "bar"
           }
          ],
          "barpolar": [
           {
            "marker": {
             "line": {
              "color": "#E5ECF6",
              "width": 0.5
             }
            },
            "type": "barpolar"
           }
          ],
          "carpet": [
           {
            "aaxis": {
             "endlinecolor": "#2a3f5f",
             "gridcolor": "white",
             "linecolor": "white",
             "minorgridcolor": "white",
             "startlinecolor": "#2a3f5f"
            },
            "baxis": {
             "endlinecolor": "#2a3f5f",
             "gridcolor": "white",
             "linecolor": "white",
             "minorgridcolor": "white",
             "startlinecolor": "#2a3f5f"
            },
            "type": "carpet"
           }
          ],
          "choropleth": [
           {
            "colorbar": {
             "outlinewidth": 0,
             "ticks": ""
            },
            "type": "choropleth"
           }
          ],
          "contour": [
           {
            "colorbar": {
             "outlinewidth": 0,
             "ticks": ""
            },
            "colorscale": [
             [
              0,
              "#0d0887"
             ],
             [
              0.1111111111111111,
              "#46039f"
             ],
             [
              0.2222222222222222,
              "#7201a8"
             ],
             [
              0.3333333333333333,
              "#9c179e"
             ],
             [
              0.4444444444444444,
              "#bd3786"
             ],
             [
              0.5555555555555556,
              "#d8576b"
             ],
             [
              0.6666666666666666,
              "#ed7953"
             ],
             [
              0.7777777777777778,
              "#fb9f3a"
             ],
             [
              0.8888888888888888,
              "#fdca26"
             ],
             [
              1,
              "#f0f921"
             ]
            ],
            "type": "contour"
           }
          ],
          "contourcarpet": [
           {
            "colorbar": {
             "outlinewidth": 0,
             "ticks": ""
            },
            "type": "contourcarpet"
           }
          ],
          "heatmap": [
           {
            "colorbar": {
             "outlinewidth": 0,
             "ticks": ""
            },
            "colorscale": [
             [
              0,
              "#0d0887"
             ],
             [
              0.1111111111111111,
              "#46039f"
             ],
             [
              0.2222222222222222,
              "#7201a8"
             ],
             [
              0.3333333333333333,
              "#9c179e"
             ],
             [
              0.4444444444444444,
              "#bd3786"
             ],
             [
              0.5555555555555556,
              "#d8576b"
             ],
             [
              0.6666666666666666,
              "#ed7953"
             ],
             [
              0.7777777777777778,
              "#fb9f3a"
             ],
             [
              0.8888888888888888,
              "#fdca26"
             ],
             [
              1,
              "#f0f921"
             ]
            ],
            "type": "heatmap"
           }
          ],
          "heatmapgl": [
           {
            "colorbar": {
             "outlinewidth": 0,
             "ticks": ""
            },
            "colorscale": [
             [
              0,
              "#0d0887"
             ],
             [
              0.1111111111111111,
              "#46039f"
             ],
             [
              0.2222222222222222,
              "#7201a8"
             ],
             [
              0.3333333333333333,
              "#9c179e"
             ],
             [
              0.4444444444444444,
              "#bd3786"
             ],
             [
              0.5555555555555556,
              "#d8576b"
             ],
             [
              0.6666666666666666,
              "#ed7953"
             ],
             [
              0.7777777777777778,
              "#fb9f3a"
             ],
             [
              0.8888888888888888,
              "#fdca26"
             ],
             [
              1,
              "#f0f921"
             ]
            ],
            "type": "heatmapgl"
           }
          ],
          "histogram": [
           {
            "marker": {
             "colorbar": {
              "outlinewidth": 0,
              "ticks": ""
             }
            },
            "type": "histogram"
           }
          ],
          "histogram2d": [
           {
            "colorbar": {
             "outlinewidth": 0,
             "ticks": ""
            },
            "colorscale": [
             [
              0,
              "#0d0887"
             ],
             [
              0.1111111111111111,
              "#46039f"
             ],
             [
              0.2222222222222222,
              "#7201a8"
             ],
             [
              0.3333333333333333,
              "#9c179e"
             ],
             [
              0.4444444444444444,
              "#bd3786"
             ],
             [
              0.5555555555555556,
              "#d8576b"
             ],
             [
              0.6666666666666666,
              "#ed7953"
             ],
             [
              0.7777777777777778,
              "#fb9f3a"
             ],
             [
              0.8888888888888888,
              "#fdca26"
             ],
             [
              1,
              "#f0f921"
             ]
            ],
            "type": "histogram2d"
           }
          ],
          "histogram2dcontour": [
           {
            "colorbar": {
             "outlinewidth": 0,
             "ticks": ""
            },
            "colorscale": [
             [
              0,
              "#0d0887"
             ],
             [
              0.1111111111111111,
              "#46039f"
             ],
             [
              0.2222222222222222,
              "#7201a8"
             ],
             [
              0.3333333333333333,
              "#9c179e"
             ],
             [
              0.4444444444444444,
              "#bd3786"
             ],
             [
              0.5555555555555556,
              "#d8576b"
             ],
             [
              0.6666666666666666,
              "#ed7953"
             ],
             [
              0.7777777777777778,
              "#fb9f3a"
             ],
             [
              0.8888888888888888,
              "#fdca26"
             ],
             [
              1,
              "#f0f921"
             ]
            ],
            "type": "histogram2dcontour"
           }
          ],
          "mesh3d": [
           {
            "colorbar": {
             "outlinewidth": 0,
             "ticks": ""
            },
            "type": "mesh3d"
           }
          ],
          "parcoords": [
           {
            "line": {
             "colorbar": {
              "outlinewidth": 0,
              "ticks": ""
             }
            },
            "type": "parcoords"
           }
          ],
          "pie": [
           {
            "automargin": true,
            "type": "pie"
           }
          ],
          "scatter": [
           {
            "marker": {
             "colorbar": {
              "outlinewidth": 0,
              "ticks": ""
             }
            },
            "type": "scatter"
           }
          ],
          "scatter3d": [
           {
            "line": {
             "colorbar": {
              "outlinewidth": 0,
              "ticks": ""
             }
            },
            "marker": {
             "colorbar": {
              "outlinewidth": 0,
              "ticks": ""
             }
            },
            "type": "scatter3d"
           }
          ],
          "scattercarpet": [
           {
            "marker": {
             "colorbar": {
              "outlinewidth": 0,
              "ticks": ""
             }
            },
            "type": "scattercarpet"
           }
          ],
          "scattergeo": [
           {
            "marker": {
             "colorbar": {
              "outlinewidth": 0,
              "ticks": ""
             }
            },
            "type": "scattergeo"
           }
          ],
          "scattergl": [
           {
            "marker": {
             "colorbar": {
              "outlinewidth": 0,
              "ticks": ""
             }
            },
            "type": "scattergl"
           }
          ],
          "scattermapbox": [
           {
            "marker": {
             "colorbar": {
              "outlinewidth": 0,
              "ticks": ""
             }
            },
            "type": "scattermapbox"
           }
          ],
          "scatterpolar": [
           {
            "marker": {
             "colorbar": {
              "outlinewidth": 0,
              "ticks": ""
             }
            },
            "type": "scatterpolar"
           }
          ],
          "scatterpolargl": [
           {
            "marker": {
             "colorbar": {
              "outlinewidth": 0,
              "ticks": ""
             }
            },
            "type": "scatterpolargl"
           }
          ],
          "scatterternary": [
           {
            "marker": {
             "colorbar": {
              "outlinewidth": 0,
              "ticks": ""
             }
            },
            "type": "scatterternary"
           }
          ],
          "surface": [
           {
            "colorbar": {
             "outlinewidth": 0,
             "ticks": ""
            },
            "colorscale": [
             [
              0,
              "#0d0887"
             ],
             [
              0.1111111111111111,
              "#46039f"
             ],
             [
              0.2222222222222222,
              "#7201a8"
             ],
             [
              0.3333333333333333,
              "#9c179e"
             ],
             [
              0.4444444444444444,
              "#bd3786"
             ],
             [
              0.5555555555555556,
              "#d8576b"
             ],
             [
              0.6666666666666666,
              "#ed7953"
             ],
             [
              0.7777777777777778,
              "#fb9f3a"
             ],
             [
              0.8888888888888888,
              "#fdca26"
             ],
             [
              1,
              "#f0f921"
             ]
            ],
            "type": "surface"
           }
          ],
          "table": [
           {
            "cells": {
             "fill": {
              "color": "#EBF0F8"
             },
             "line": {
              "color": "white"
             }
            },
            "header": {
             "fill": {
              "color": "#C8D4E3"
             },
             "line": {
              "color": "white"
             }
            },
            "type": "table"
           }
          ]
         },
         "layout": {
          "annotationdefaults": {
           "arrowcolor": "#2a3f5f",
           "arrowhead": 0,
           "arrowwidth": 1
          },
          "autotypenumbers": "strict",
          "coloraxis": {
           "colorbar": {
            "outlinewidth": 0,
            "ticks": ""
           }
          },
          "colorscale": {
           "diverging": [
            [
             0,
             "#8e0152"
            ],
            [
             0.1,
             "#c51b7d"
            ],
            [
             0.2,
             "#de77ae"
            ],
            [
             0.3,
             "#f1b6da"
            ],
            [
             0.4,
             "#fde0ef"
            ],
            [
             0.5,
             "#f7f7f7"
            ],
            [
             0.6,
             "#e6f5d0"
            ],
            [
             0.7,
             "#b8e186"
            ],
            [
             0.8,
             "#7fbc41"
            ],
            [
             0.9,
             "#4d9221"
            ],
            [
             1,
             "#276419"
            ]
           ],
           "sequential": [
            [
             0,
             "#0d0887"
            ],
            [
             0.1111111111111111,
             "#46039f"
            ],
            [
             0.2222222222222222,
             "#7201a8"
            ],
            [
             0.3333333333333333,
             "#9c179e"
            ],
            [
             0.4444444444444444,
             "#bd3786"
            ],
            [
             0.5555555555555556,
             "#d8576b"
            ],
            [
             0.6666666666666666,
             "#ed7953"
            ],
            [
             0.7777777777777778,
             "#fb9f3a"
            ],
            [
             0.8888888888888888,
             "#fdca26"
            ],
            [
             1,
             "#f0f921"
            ]
           ],
           "sequentialminus": [
            [
             0,
             "#0d0887"
            ],
            [
             0.1111111111111111,
             "#46039f"
            ],
            [
             0.2222222222222222,
             "#7201a8"
            ],
            [
             0.3333333333333333,
             "#9c179e"
            ],
            [
             0.4444444444444444,
             "#bd3786"
            ],
            [
             0.5555555555555556,
             "#d8576b"
            ],
            [
             0.6666666666666666,
             "#ed7953"
            ],
            [
             0.7777777777777778,
             "#fb9f3a"
            ],
            [
             0.8888888888888888,
             "#fdca26"
            ],
            [
             1,
             "#f0f921"
            ]
           ]
          },
          "colorway": [
           "#636efa",
           "#EF553B",
           "#00cc96",
           "#ab63fa",
           "#FFA15A",
           "#19d3f3",
           "#FF6692",
           "#B6E880",
           "#FF97FF",
           "#FECB52"
          ],
          "font": {
           "color": "#2a3f5f"
          },
          "geo": {
           "bgcolor": "white",
           "lakecolor": "white",
           "landcolor": "#E5ECF6",
           "showlakes": true,
           "showland": true,
           "subunitcolor": "white"
          },
          "hoverlabel": {
           "align": "left"
          },
          "hovermode": "closest",
          "mapbox": {
           "style": "light"
          },
          "paper_bgcolor": "white",
          "plot_bgcolor": "#E5ECF6",
          "polar": {
           "angularaxis": {
            "gridcolor": "white",
            "linecolor": "white",
            "ticks": ""
           },
           "bgcolor": "#E5ECF6",
           "radialaxis": {
            "gridcolor": "white",
            "linecolor": "white",
            "ticks": ""
           }
          },
          "scene": {
           "xaxis": {
            "backgroundcolor": "#E5ECF6",
            "gridcolor": "white",
            "gridwidth": 2,
            "linecolor": "white",
            "showbackground": true,
            "ticks": "",
            "zerolinecolor": "white"
           },
           "yaxis": {
            "backgroundcolor": "#E5ECF6",
            "gridcolor": "white",
            "gridwidth": 2,
            "linecolor": "white",
            "showbackground": true,
            "ticks": "",
            "zerolinecolor": "white"
           },
           "zaxis": {
            "backgroundcolor": "#E5ECF6",
            "gridcolor": "white",
            "gridwidth": 2,
            "linecolor": "white",
            "showbackground": true,
            "ticks": "",
            "zerolinecolor": "white"
           }
          },
          "shapedefaults": {
           "line": {
            "color": "#2a3f5f"
           }
          },
          "ternary": {
           "aaxis": {
            "gridcolor": "white",
            "linecolor": "white",
            "ticks": ""
           },
           "baxis": {
            "gridcolor": "white",
            "linecolor": "white",
            "ticks": ""
           },
           "bgcolor": "#E5ECF6",
           "caxis": {
            "gridcolor": "white",
            "linecolor": "white",
            "ticks": ""
           }
          },
          "title": {
           "x": 0.05
          },
          "xaxis": {
           "automargin": true,
           "gridcolor": "white",
           "linecolor": "white",
           "ticks": "",
           "title": {
            "standoff": 15
           },
           "zerolinecolor": "white",
           "zerolinewidth": 2
          },
          "yaxis": {
           "automargin": true,
           "gridcolor": "white",
           "linecolor": "white",
           "ticks": "",
           "title": {
            "standoff": 15
           },
           "zerolinecolor": "white",
           "zerolinewidth": 2
          }
         }
        },
        "title": {
         "text": "Scores of variables"
        },
        "yaxis": {
         "title": {
          "text": "score"
         },
         "type": "log"
        }
       }
      },
      "text/html": [
       "<div>                            <div id=\"82dfa23d-2a62-4e46-a231-d9efd013a9e8\" class=\"plotly-graph-div\" style=\"height:525px; width:100%;\"></div>            <script type=\"text/javascript\">                require([\"plotly\"], function(Plotly) {                    window.PLOTLYENV=window.PLOTLYENV || {};                                    if (document.getElementById(\"82dfa23d-2a62-4e46-a231-d9efd013a9e8\")) {                    Plotly.newPlot(                        \"82dfa23d-2a62-4e46-a231-d9efd013a9e8\",                        [{\"type\": \"bar\", \"x\": [\"timediff\", \"DisbursementGross\", \"ChgOffPrinGr\", \"GrAppv\", \"SBA_Appv\", \"Term\", \"NoEmp\", \"BalanceGross\", \"NewExist_2.0\", \"UrbanRural_2.0\", \"RevLineCr_1.0\", \"NAICS_cat_Manufacturing\", \"NAICS_cat_Other services (except public administration)\", \"NAICS_cat_Professional, scientific, and technical services\", \"NAICS_cat_Retail trade\", \"same_state_1.0\", \"LowDoc_1\", \"CreateJob_1\", \"RetainedJob_1\"], \"y\": [0.8697490026177833, 0.01519911082952933, 0.0012328467394420659, 0.00026560877829466864, 0.00026560877829466864, 5.336699231206313e-06, 0.0, 0.0, 0.0, 0.0, 0.0, 0.0, 0.0, 0.0, 0.0, 0.0, 0.0, 0.0, 0.0]}],                        {\"template\": {\"data\": {\"bar\": [{\"error_x\": {\"color\": \"#2a3f5f\"}, \"error_y\": {\"color\": \"#2a3f5f\"}, \"marker\": {\"line\": {\"color\": \"#E5ECF6\", \"width\": 0.5}}, \"type\": \"bar\"}], \"barpolar\": [{\"marker\": {\"line\": {\"color\": \"#E5ECF6\", \"width\": 0.5}}, \"type\": \"barpolar\"}], \"carpet\": [{\"aaxis\": {\"endlinecolor\": \"#2a3f5f\", \"gridcolor\": \"white\", \"linecolor\": \"white\", \"minorgridcolor\": \"white\", \"startlinecolor\": \"#2a3f5f\"}, \"baxis\": {\"endlinecolor\": \"#2a3f5f\", \"gridcolor\": \"white\", \"linecolor\": \"white\", \"minorgridcolor\": \"white\", \"startlinecolor\": \"#2a3f5f\"}, \"type\": \"carpet\"}], \"choropleth\": [{\"colorbar\": {\"outlinewidth\": 0, \"ticks\": \"\"}, \"type\": \"choropleth\"}], \"contour\": [{\"colorbar\": {\"outlinewidth\": 0, \"ticks\": \"\"}, \"colorscale\": [[0.0, \"#0d0887\"], [0.1111111111111111, \"#46039f\"], [0.2222222222222222, \"#7201a8\"], [0.3333333333333333, \"#9c179e\"], [0.4444444444444444, \"#bd3786\"], [0.5555555555555556, \"#d8576b\"], [0.6666666666666666, \"#ed7953\"], [0.7777777777777778, \"#fb9f3a\"], [0.8888888888888888, \"#fdca26\"], [1.0, \"#f0f921\"]], \"type\": \"contour\"}], \"contourcarpet\": [{\"colorbar\": {\"outlinewidth\": 0, \"ticks\": \"\"}, \"type\": \"contourcarpet\"}], \"heatmap\": [{\"colorbar\": {\"outlinewidth\": 0, \"ticks\": \"\"}, \"colorscale\": [[0.0, \"#0d0887\"], [0.1111111111111111, \"#46039f\"], [0.2222222222222222, \"#7201a8\"], [0.3333333333333333, \"#9c179e\"], [0.4444444444444444, \"#bd3786\"], [0.5555555555555556, \"#d8576b\"], [0.6666666666666666, \"#ed7953\"], [0.7777777777777778, \"#fb9f3a\"], [0.8888888888888888, \"#fdca26\"], [1.0, \"#f0f921\"]], \"type\": \"heatmap\"}], \"heatmapgl\": [{\"colorbar\": {\"outlinewidth\": 0, \"ticks\": \"\"}, \"colorscale\": [[0.0, \"#0d0887\"], [0.1111111111111111, \"#46039f\"], [0.2222222222222222, \"#7201a8\"], [0.3333333333333333, \"#9c179e\"], [0.4444444444444444, \"#bd3786\"], [0.5555555555555556, \"#d8576b\"], [0.6666666666666666, \"#ed7953\"], [0.7777777777777778, \"#fb9f3a\"], [0.8888888888888888, \"#fdca26\"], [1.0, \"#f0f921\"]], \"type\": \"heatmapgl\"}], \"histogram\": [{\"marker\": {\"colorbar\": {\"outlinewidth\": 0, \"ticks\": \"\"}}, \"type\": \"histogram\"}], \"histogram2d\": [{\"colorbar\": {\"outlinewidth\": 0, \"ticks\": \"\"}, \"colorscale\": [[0.0, \"#0d0887\"], [0.1111111111111111, \"#46039f\"], [0.2222222222222222, \"#7201a8\"], [0.3333333333333333, \"#9c179e\"], [0.4444444444444444, \"#bd3786\"], [0.5555555555555556, \"#d8576b\"], [0.6666666666666666, \"#ed7953\"], [0.7777777777777778, \"#fb9f3a\"], [0.8888888888888888, \"#fdca26\"], [1.0, \"#f0f921\"]], \"type\": \"histogram2d\"}], \"histogram2dcontour\": [{\"colorbar\": {\"outlinewidth\": 0, \"ticks\": \"\"}, \"colorscale\": [[0.0, \"#0d0887\"], [0.1111111111111111, \"#46039f\"], [0.2222222222222222, \"#7201a8\"], [0.3333333333333333, \"#9c179e\"], [0.4444444444444444, \"#bd3786\"], [0.5555555555555556, \"#d8576b\"], [0.6666666666666666, \"#ed7953\"], [0.7777777777777778, \"#fb9f3a\"], [0.8888888888888888, \"#fdca26\"], [1.0, \"#f0f921\"]], \"type\": \"histogram2dcontour\"}], \"mesh3d\": [{\"colorbar\": {\"outlinewidth\": 0, \"ticks\": \"\"}, \"type\": \"mesh3d\"}], \"parcoords\": [{\"line\": {\"colorbar\": {\"outlinewidth\": 0, \"ticks\": \"\"}}, \"type\": \"parcoords\"}], \"pie\": [{\"automargin\": true, \"type\": \"pie\"}], \"scatter\": [{\"marker\": {\"colorbar\": {\"outlinewidth\": 0, \"ticks\": \"\"}}, \"type\": \"scatter\"}], \"scatter3d\": [{\"line\": {\"colorbar\": {\"outlinewidth\": 0, \"ticks\": \"\"}}, \"marker\": {\"colorbar\": {\"outlinewidth\": 0, \"ticks\": \"\"}}, \"type\": \"scatter3d\"}], \"scattercarpet\": [{\"marker\": {\"colorbar\": {\"outlinewidth\": 0, \"ticks\": \"\"}}, \"type\": \"scattercarpet\"}], \"scattergeo\": [{\"marker\": {\"colorbar\": {\"outlinewidth\": 0, \"ticks\": \"\"}}, \"type\": \"scattergeo\"}], \"scattergl\": [{\"marker\": {\"colorbar\": {\"outlinewidth\": 0, \"ticks\": \"\"}}, \"type\": \"scattergl\"}], \"scattermapbox\": [{\"marker\": {\"colorbar\": {\"outlinewidth\": 0, \"ticks\": \"\"}}, \"type\": \"scattermapbox\"}], \"scatterpolar\": [{\"marker\": {\"colorbar\": {\"outlinewidth\": 0, \"ticks\": \"\"}}, \"type\": \"scatterpolar\"}], \"scatterpolargl\": [{\"marker\": {\"colorbar\": {\"outlinewidth\": 0, \"ticks\": \"\"}}, \"type\": \"scatterpolargl\"}], \"scatterternary\": [{\"marker\": {\"colorbar\": {\"outlinewidth\": 0, \"ticks\": \"\"}}, \"type\": \"scatterternary\"}], \"surface\": [{\"colorbar\": {\"outlinewidth\": 0, \"ticks\": \"\"}, \"colorscale\": [[0.0, \"#0d0887\"], [0.1111111111111111, \"#46039f\"], [0.2222222222222222, \"#7201a8\"], [0.3333333333333333, \"#9c179e\"], [0.4444444444444444, \"#bd3786\"], [0.5555555555555556, \"#d8576b\"], [0.6666666666666666, \"#ed7953\"], [0.7777777777777778, \"#fb9f3a\"], [0.8888888888888888, \"#fdca26\"], [1.0, \"#f0f921\"]], \"type\": \"surface\"}], \"table\": [{\"cells\": {\"fill\": {\"color\": \"#EBF0F8\"}, \"line\": {\"color\": \"white\"}}, \"header\": {\"fill\": {\"color\": \"#C8D4E3\"}, \"line\": {\"color\": \"white\"}}, \"type\": \"table\"}]}, \"layout\": {\"annotationdefaults\": {\"arrowcolor\": \"#2a3f5f\", \"arrowhead\": 0, \"arrowwidth\": 1}, \"autotypenumbers\": \"strict\", \"coloraxis\": {\"colorbar\": {\"outlinewidth\": 0, \"ticks\": \"\"}}, \"colorscale\": {\"diverging\": [[0, \"#8e0152\"], [0.1, \"#c51b7d\"], [0.2, \"#de77ae\"], [0.3, \"#f1b6da\"], [0.4, \"#fde0ef\"], [0.5, \"#f7f7f7\"], [0.6, \"#e6f5d0\"], [0.7, \"#b8e186\"], [0.8, \"#7fbc41\"], [0.9, \"#4d9221\"], [1, \"#276419\"]], \"sequential\": [[0.0, \"#0d0887\"], [0.1111111111111111, \"#46039f\"], [0.2222222222222222, \"#7201a8\"], [0.3333333333333333, \"#9c179e\"], [0.4444444444444444, \"#bd3786\"], [0.5555555555555556, \"#d8576b\"], [0.6666666666666666, \"#ed7953\"], [0.7777777777777778, \"#fb9f3a\"], [0.8888888888888888, \"#fdca26\"], [1.0, \"#f0f921\"]], \"sequentialminus\": [[0.0, \"#0d0887\"], [0.1111111111111111, \"#46039f\"], [0.2222222222222222, \"#7201a8\"], [0.3333333333333333, \"#9c179e\"], [0.4444444444444444, \"#bd3786\"], [0.5555555555555556, \"#d8576b\"], [0.6666666666666666, \"#ed7953\"], [0.7777777777777778, \"#fb9f3a\"], [0.8888888888888888, \"#fdca26\"], [1.0, \"#f0f921\"]]}, \"colorway\": [\"#636efa\", \"#EF553B\", \"#00cc96\", \"#ab63fa\", \"#FFA15A\", \"#19d3f3\", \"#FF6692\", \"#B6E880\", \"#FF97FF\", \"#FECB52\"], \"font\": {\"color\": \"#2a3f5f\"}, \"geo\": {\"bgcolor\": \"white\", \"lakecolor\": \"white\", \"landcolor\": \"#E5ECF6\", \"showlakes\": true, \"showland\": true, \"subunitcolor\": \"white\"}, \"hoverlabel\": {\"align\": \"left\"}, \"hovermode\": \"closest\", \"mapbox\": {\"style\": \"light\"}, \"paper_bgcolor\": \"white\", \"plot_bgcolor\": \"#E5ECF6\", \"polar\": {\"angularaxis\": {\"gridcolor\": \"white\", \"linecolor\": \"white\", \"ticks\": \"\"}, \"bgcolor\": \"#E5ECF6\", \"radialaxis\": {\"gridcolor\": \"white\", \"linecolor\": \"white\", \"ticks\": \"\"}}, \"scene\": {\"xaxis\": {\"backgroundcolor\": \"#E5ECF6\", \"gridcolor\": \"white\", \"gridwidth\": 2, \"linecolor\": \"white\", \"showbackground\": true, \"ticks\": \"\", \"zerolinecolor\": \"white\"}, \"yaxis\": {\"backgroundcolor\": \"#E5ECF6\", \"gridcolor\": \"white\", \"gridwidth\": 2, \"linecolor\": \"white\", \"showbackground\": true, \"ticks\": \"\", \"zerolinecolor\": \"white\"}, \"zaxis\": {\"backgroundcolor\": \"#E5ECF6\", \"gridcolor\": \"white\", \"gridwidth\": 2, \"linecolor\": \"white\", \"showbackground\": true, \"ticks\": \"\", \"zerolinecolor\": \"white\"}}, \"shapedefaults\": {\"line\": {\"color\": \"#2a3f5f\"}}, \"ternary\": {\"aaxis\": {\"gridcolor\": \"white\", \"linecolor\": \"white\", \"ticks\": \"\"}, \"baxis\": {\"gridcolor\": \"white\", \"linecolor\": \"white\", \"ticks\": \"\"}, \"bgcolor\": \"#E5ECF6\", \"caxis\": {\"gridcolor\": \"white\", \"linecolor\": \"white\", \"ticks\": \"\"}}, \"title\": {\"x\": 0.05}, \"xaxis\": {\"automargin\": true, \"gridcolor\": \"white\", \"linecolor\": \"white\", \"ticks\": \"\", \"title\": {\"standoff\": 15}, \"zerolinecolor\": \"white\", \"zerolinewidth\": 2}, \"yaxis\": {\"automargin\": true, \"gridcolor\": \"white\", \"linecolor\": \"white\", \"ticks\": \"\", \"title\": {\"standoff\": 15}, \"zerolinecolor\": \"white\", \"zerolinewidth\": 2}}}, \"title\": {\"text\": \"Scores of variables\"}, \"yaxis\": {\"title\": {\"text\": \"score\"}, \"type\": \"log\"}},                        {\"responsive\": true}                    ).then(function(){\n",
       "                            \n",
       "var gd = document.getElementById('82dfa23d-2a62-4e46-a231-d9efd013a9e8');\n",
       "var x = new MutationObserver(function (mutations, observer) {{\n",
       "        var display = window.getComputedStyle(gd).display;\n",
       "        if (!display || display === 'none') {{\n",
       "            console.log([gd, 'removed!']);\n",
       "            Plotly.purge(gd);\n",
       "            observer.disconnect();\n",
       "        }}\n",
       "}});\n",
       "\n",
       "// Listen for the removal of the full notebook cells\n",
       "var notebookContainer = gd.closest('#notebook-container');\n",
       "if (notebookContainer) {{\n",
       "    x.observe(notebookContainer, {childList: true});\n",
       "}}\n",
       "\n",
       "// Listen for the clearing of the current output cell\n",
       "var outputEl = gd.closest('.output');\n",
       "if (outputEl) {{\n",
       "    x.observe(outputEl, {childList: true});\n",
       "}}\n",
       "\n",
       "                        })                };                });            </script>        </div>"
      ]
     },
     "metadata": {},
     "output_type": "display_data"
    }
   ],
   "source": [
    "# bar plot of scores\n",
    "import plotly.graph_objects as go\n",
    "from operator import itemgetter\n",
    "\n",
    "fig = go.Figure(data=[\n",
    "    go.Bar(\n",
    "        x=[s[0] for s in sorted_scores],\n",
    "        y=[s[1] for s in sorted_scores]\n",
    "    )\n",
    "])\n",
    "\n",
    "fig.update_layout(\n",
    "    title=\"Scores of variables\",\n",
    "    yaxis={\n",
    "        'type': 'log',\n",
    "        'title': 'score'\n",
    "    }\n",
    ")\n",
    "\n",
    "fig.show()"
   ]
  },
  {
   "cell_type": "code",
   "execution_count": 32,
   "metadata": {},
   "outputs": [
    {
     "name": "stdout",
     "output_type": "stream",
     "text": [
      "[('timediff', 0.8697490026177833), ('DisbursementGross', 0.01519911082952933), ('ChgOffPrinGr', 0.0012328467394420659), ('GrAppv', 0.00026560877829466864), ('SBA_Appv', 0.00026560877829466864), ('Term', 5.336699231206313e-06), ('NoEmp', 0.0)]\n"
     ]
    }
   ],
   "source": [
    "# select top K features\n",
    "K = 7\n",
    "\n",
    "print(sorted_scores[:K])"
   ]
  },
  {
   "cell_type": "markdown",
   "metadata": {},
   "source": [
    "No me gustaron los resultados (debido a que considero que mas variables deberian de cobrar mas importancia), así que hare el clustering jerarquico metiendo todas las variables.\n",
    "\n",
    "Con los anteriores métodos de filtrado (tion_Tarea3), coinciden en que las variables más importantes serían (no necesariamente en ese orden):\n",
    "* ChgOffPrinGr\n",
    "* Term\n",
    "* timediff\n",
    "* SBA_Appv\n",
    "\n",
    "Variables que estan presentes en esta iteración de filtrado pero no en la anterior como las mas importantes:\n",
    "* DisbursementGross\n",
    "* GrAppv \n",
    "\n",
    "Variables que estan presentes en la iteración anterior de filtrado pero no en esta como las mas importantes:\n",
    "* RevLineCr\n",
    "* SCIAN category (sin ser dummy)\n",
    "* NoEmp\n",
    "\n",
    "Trabajaré con la SCIAN category como tal, no como dummy:"
   ]
  },
  {
   "cell_type": "markdown",
   "metadata": {},
   "source": [
    "# Clustering - No Supervisado"
   ]
  },
  {
   "cell_type": "code",
   "execution_count": 37,
   "metadata": {
    "collapsed": true
   },
   "outputs": [
    {
     "data": {
      "text/html": [
       "<div>\n",
       "<style scoped>\n",
       "    .dataframe tbody tr th:only-of-type {\n",
       "        vertical-align: middle;\n",
       "    }\n",
       "\n",
       "    .dataframe tbody tr th {\n",
       "        vertical-align: top;\n",
       "    }\n",
       "\n",
       "    .dataframe thead th {\n",
       "        text-align: right;\n",
       "    }\n",
       "</style>\n",
       "<table border=\"1\" class=\"dataframe\">\n",
       "  <thead>\n",
       "    <tr style=\"text-align: right;\">\n",
       "      <th></th>\n",
       "      <th>Term</th>\n",
       "      <th>NoEmp</th>\n",
       "      <th>NewExist</th>\n",
       "      <th>CreateJob</th>\n",
       "      <th>RetainedJob</th>\n",
       "      <th>UrbanRural</th>\n",
       "      <th>RevLineCr</th>\n",
       "      <th>LowDoc</th>\n",
       "      <th>DisbursementGross</th>\n",
       "      <th>BalanceGross</th>\n",
       "      <th>paid</th>\n",
       "      <th>ChgOffPrinGr</th>\n",
       "      <th>GrAppv</th>\n",
       "      <th>SBA_Appv</th>\n",
       "      <th>same_state</th>\n",
       "      <th>timediff</th>\n",
       "      <th>NAICS_cat</th>\n",
       "    </tr>\n",
       "  </thead>\n",
       "  <tbody>\n",
       "    <tr>\n",
       "      <th>0</th>\n",
       "      <td>0.082601</td>\n",
       "      <td>0.002500</td>\n",
       "      <td>1.0</td>\n",
       "      <td>0</td>\n",
       "      <td>0</td>\n",
       "      <td>2.0</td>\n",
       "      <td>1.0</td>\n",
       "      <td>0</td>\n",
       "      <td>0.002963</td>\n",
       "      <td>0.0</td>\n",
       "      <td>0.0</td>\n",
       "      <td>0.006996</td>\n",
       "      <td>0.010003</td>\n",
       "      <td>0.005912</td>\n",
       "      <td>0.0</td>\n",
       "      <td>0.910632</td>\n",
       "      <td>Construction</td>\n",
       "    </tr>\n",
       "    <tr>\n",
       "      <th>1</th>\n",
       "      <td>0.105448</td>\n",
       "      <td>0.000250</td>\n",
       "      <td>2.0</td>\n",
       "      <td>0</td>\n",
       "      <td>0</td>\n",
       "      <td>1.0</td>\n",
       "      <td>0.0</td>\n",
       "      <td>0</td>\n",
       "      <td>0.011089</td>\n",
       "      <td>0.0</td>\n",
       "      <td>1.0</td>\n",
       "      <td>0.000000</td>\n",
       "      <td>0.035010</td>\n",
       "      <td>0.020692</td>\n",
       "      <td>0.0</td>\n",
       "      <td>0.278505</td>\n",
       "      <td>NaN</td>\n",
       "    </tr>\n",
       "    <tr>\n",
       "      <th>2</th>\n",
       "      <td>0.147627</td>\n",
       "      <td>0.000875</td>\n",
       "      <td>2.0</td>\n",
       "      <td>0</td>\n",
       "      <td>0</td>\n",
       "      <td>1.0</td>\n",
       "      <td>0.0</td>\n",
       "      <td>0</td>\n",
       "      <td>0.001529</td>\n",
       "      <td>0.0</td>\n",
       "      <td>1.0</td>\n",
       "      <td>0.000000</td>\n",
       "      <td>0.005590</td>\n",
       "      <td>0.003304</td>\n",
       "      <td>0.0</td>\n",
       "      <td>0.254622</td>\n",
       "      <td>NaN</td>\n",
       "    </tr>\n",
       "    <tr>\n",
       "      <th>3</th>\n",
       "      <td>0.084359</td>\n",
       "      <td>0.000125</td>\n",
       "      <td>2.0</td>\n",
       "      <td>0</td>\n",
       "      <td>0</td>\n",
       "      <td>1.0</td>\n",
       "      <td>0.0</td>\n",
       "      <td>0</td>\n",
       "      <td>0.001052</td>\n",
       "      <td>0.0</td>\n",
       "      <td>1.0</td>\n",
       "      <td>0.000000</td>\n",
       "      <td>0.004119</td>\n",
       "      <td>0.002434</td>\n",
       "      <td>0.0</td>\n",
       "      <td>0.241525</td>\n",
       "      <td>NaN</td>\n",
       "    </tr>\n",
       "    <tr>\n",
       "      <th>4</th>\n",
       "      <td>0.147627</td>\n",
       "      <td>0.006876</td>\n",
       "      <td>2.0</td>\n",
       "      <td>0</td>\n",
       "      <td>0</td>\n",
       "      <td>1.0</td>\n",
       "      <td>0.0</td>\n",
       "      <td>0</td>\n",
       "      <td>0.009368</td>\n",
       "      <td>0.0</td>\n",
       "      <td>1.0</td>\n",
       "      <td>0.000000</td>\n",
       "      <td>0.029715</td>\n",
       "      <td>0.017562</td>\n",
       "      <td>0.0</td>\n",
       "      <td>0.248844</td>\n",
       "      <td>Accommodation and food services</td>\n",
       "    </tr>\n",
       "    <tr>\n",
       "      <th>...</th>\n",
       "      <td>...</td>\n",
       "      <td>...</td>\n",
       "      <td>...</td>\n",
       "      <td>...</td>\n",
       "      <td>...</td>\n",
       "      <td>...</td>\n",
       "      <td>...</td>\n",
       "      <td>...</td>\n",
       "      <td>...</td>\n",
       "      <td>...</td>\n",
       "      <td>...</td>\n",
       "      <td>...</td>\n",
       "      <td>...</td>\n",
       "      <td>...</td>\n",
       "      <td>...</td>\n",
       "      <td>...</td>\n",
       "      <td>...</td>\n",
       "    </tr>\n",
       "    <tr>\n",
       "      <th>313700</th>\n",
       "      <td>0.024605</td>\n",
       "      <td>0.003125</td>\n",
       "      <td>1.0</td>\n",
       "      <td>1</td>\n",
       "      <td>1</td>\n",
       "      <td>1.0</td>\n",
       "      <td>0.0</td>\n",
       "      <td>0</td>\n",
       "      <td>0.001052</td>\n",
       "      <td>0.0</td>\n",
       "      <td>0.0</td>\n",
       "      <td>0.003736</td>\n",
       "      <td>0.004119</td>\n",
       "      <td>0.004260</td>\n",
       "      <td>0.0</td>\n",
       "      <td>0.232280</td>\n",
       "      <td>Health care and social assistance</td>\n",
       "    </tr>\n",
       "    <tr>\n",
       "      <th>313701</th>\n",
       "      <td>0.442882</td>\n",
       "      <td>0.000625</td>\n",
       "      <td>2.0</td>\n",
       "      <td>0</td>\n",
       "      <td>1</td>\n",
       "      <td>2.0</td>\n",
       "      <td>0.0</td>\n",
       "      <td>0</td>\n",
       "      <td>0.081073</td>\n",
       "      <td>0.0</td>\n",
       "      <td>1.0</td>\n",
       "      <td>0.000000</td>\n",
       "      <td>0.250397</td>\n",
       "      <td>0.222074</td>\n",
       "      <td>0.0</td>\n",
       "      <td>0.232280</td>\n",
       "      <td>Transportation and warehousing</td>\n",
       "    </tr>\n",
       "    <tr>\n",
       "      <th>313702</th>\n",
       "      <td>0.147627</td>\n",
       "      <td>0.000125</td>\n",
       "      <td>1.0</td>\n",
       "      <td>0</td>\n",
       "      <td>1</td>\n",
       "      <td>1.0</td>\n",
       "      <td>0.0</td>\n",
       "      <td>0</td>\n",
       "      <td>0.001052</td>\n",
       "      <td>0.0</td>\n",
       "      <td>1.0</td>\n",
       "      <td>0.000000</td>\n",
       "      <td>0.004119</td>\n",
       "      <td>0.004260</td>\n",
       "      <td>0.0</td>\n",
       "      <td>0.232280</td>\n",
       "      <td>Information</td>\n",
       "    </tr>\n",
       "    <tr>\n",
       "      <th>313703</th>\n",
       "      <td>0.147627</td>\n",
       "      <td>0.000625</td>\n",
       "      <td>1.0</td>\n",
       "      <td>1</td>\n",
       "      <td>1</td>\n",
       "      <td>1.0</td>\n",
       "      <td>0.0</td>\n",
       "      <td>0</td>\n",
       "      <td>0.000096</td>\n",
       "      <td>0.0</td>\n",
       "      <td>1.0</td>\n",
       "      <td>0.000000</td>\n",
       "      <td>0.001177</td>\n",
       "      <td>0.001304</td>\n",
       "      <td>0.0</td>\n",
       "      <td>0.232280</td>\n",
       "      <td>Wholesale trade</td>\n",
       "    </tr>\n",
       "    <tr>\n",
       "      <th>313704</th>\n",
       "      <td>0.066784</td>\n",
       "      <td>0.000375</td>\n",
       "      <td>1.0</td>\n",
       "      <td>0</td>\n",
       "      <td>1</td>\n",
       "      <td>2.0</td>\n",
       "      <td>0.0</td>\n",
       "      <td>0</td>\n",
       "      <td>0.019922</td>\n",
       "      <td>0.0</td>\n",
       "      <td>1.0</td>\n",
       "      <td>0.000000</td>\n",
       "      <td>0.062195</td>\n",
       "      <td>0.036759</td>\n",
       "      <td>1.0</td>\n",
       "      <td>0.232280</td>\n",
       "      <td>Real estate and rental and leasing</td>\n",
       "    </tr>\n",
       "  </tbody>\n",
       "</table>\n",
       "<p>313094 rows × 17 columns</p>\n",
       "</div>"
      ],
      "text/plain": [
       "            Term     NoEmp  NewExist  CreateJob  RetainedJob  UrbanRural  \\\n",
       "0       0.082601  0.002500       1.0          0            0         2.0   \n",
       "1       0.105448  0.000250       2.0          0            0         1.0   \n",
       "2       0.147627  0.000875       2.0          0            0         1.0   \n",
       "3       0.084359  0.000125       2.0          0            0         1.0   \n",
       "4       0.147627  0.006876       2.0          0            0         1.0   \n",
       "...          ...       ...       ...        ...          ...         ...   \n",
       "313700  0.024605  0.003125       1.0          1            1         1.0   \n",
       "313701  0.442882  0.000625       2.0          0            1         2.0   \n",
       "313702  0.147627  0.000125       1.0          0            1         1.0   \n",
       "313703  0.147627  0.000625       1.0          1            1         1.0   \n",
       "313704  0.066784  0.000375       1.0          0            1         2.0   \n",
       "\n",
       "        RevLineCr  LowDoc  DisbursementGross  BalanceGross  paid  \\\n",
       "0             1.0       0           0.002963           0.0   0.0   \n",
       "1             0.0       0           0.011089           0.0   1.0   \n",
       "2             0.0       0           0.001529           0.0   1.0   \n",
       "3             0.0       0           0.001052           0.0   1.0   \n",
       "4             0.0       0           0.009368           0.0   1.0   \n",
       "...           ...     ...                ...           ...   ...   \n",
       "313700        0.0       0           0.001052           0.0   0.0   \n",
       "313701        0.0       0           0.081073           0.0   1.0   \n",
       "313702        0.0       0           0.001052           0.0   1.0   \n",
       "313703        0.0       0           0.000096           0.0   1.0   \n",
       "313704        0.0       0           0.019922           0.0   1.0   \n",
       "\n",
       "        ChgOffPrinGr    GrAppv  SBA_Appv  same_state  timediff  \\\n",
       "0           0.006996  0.010003  0.005912         0.0  0.910632   \n",
       "1           0.000000  0.035010  0.020692         0.0  0.278505   \n",
       "2           0.000000  0.005590  0.003304         0.0  0.254622   \n",
       "3           0.000000  0.004119  0.002434         0.0  0.241525   \n",
       "4           0.000000  0.029715  0.017562         0.0  0.248844   \n",
       "...              ...       ...       ...         ...       ...   \n",
       "313700      0.003736  0.004119  0.004260         0.0  0.232280   \n",
       "313701      0.000000  0.250397  0.222074         0.0  0.232280   \n",
       "313702      0.000000  0.004119  0.004260         0.0  0.232280   \n",
       "313703      0.000000  0.001177  0.001304         0.0  0.232280   \n",
       "313704      0.000000  0.062195  0.036759         1.0  0.232280   \n",
       "\n",
       "                                 NAICS_cat  \n",
       "0                             Construction  \n",
       "1                                      NaN  \n",
       "2                                      NaN  \n",
       "3                                      NaN  \n",
       "4          Accommodation and food services  \n",
       "...                                    ...  \n",
       "313700   Health care and social assistance  \n",
       "313701      Transportation and warehousing  \n",
       "313702                         Information  \n",
       "313703                     Wholesale trade  \n",
       "313704  Real estate and rental and leasing  \n",
       "\n",
       "[313094 rows x 17 columns]"
      ]
     },
     "execution_count": 37,
     "metadata": {},
     "output_type": "execute_result"
    }
   ],
   "source": [
    "#disponemos de las dates format porque el algoritmo no podra con ese formato, y de la scian category la convertimos a factor\n",
    "loansC=loans.drop([\"ApprovalDate\",\"DisbursementDate\",\"business\",\"ID\",\"APPROVALtimestamp\",\"DISBURSEMENTtimestamp\",\"Terms_comp\",\n",
    "                  \"NAICStwo_digits\"],axis=1)\n",
    "#loansC[\"NAICS_cat2\"] = pd.factorize(loans.NAICS_cat)[0] + 1\n",
    "loansC"
   ]
  },
  {
   "cell_type": "code",
   "execution_count": 38,
   "metadata": {
    "collapsed": true
   },
   "outputs": [
    {
     "data": {
      "text/plain": [
       "Retail trade                                                                56822\n",
       "Accommodation and food services                                             36487\n",
       "Other services (except public administration)                               31270\n",
       "Manufacturing                                                               28511\n",
       "Professional, scientific, and technical services                            27858\n",
       "Construction                                                                24765\n",
       "Health care and social assistance                                           21582\n",
       "Wholesale trade                                                             19696\n",
       "Administrative and support and waste management and remediation services    16050\n",
       "Transportation and warehousing                                               9398\n",
       "Arts, entertainment, and recreation                                          6110\n",
       "Real estate and rental and leasing                                           5374\n",
       "Information                                                                  5227\n",
       "Finance and insurance                                                        4625\n",
       "Educational services                                                         3115\n",
       "Agriculture, forestry, fishing and hunting                                   2342\n",
       "Mining, quarrying, and oil and gas extraction                                 530\n",
       "Utilities                                                                     250\n",
       "Management of companies and enterprises                                        89\n",
       "Public administration                                                          30\n",
       "Name: NAICS_cat, dtype: int64"
      ]
     },
     "execution_count": 38,
     "metadata": {},
     "output_type": "execute_result"
    }
   ],
   "source": [
    "loans[\"NAICS_cat\"].value_counts()"
   ]
  },
  {
   "cell_type": "code",
   "execution_count": 39,
   "metadata": {},
   "outputs": [],
   "source": [
    "loans[\"NAICS_cat2\"]=np.nan\n",
    "loans.loc[loans[\"NAICS_cat\"]==\"Retail trade\",\"NAICS_cat2\"]=\"Retail\"\n",
    "loans.loc[loans[\"NAICS_cat\"]==\"Accommodation and food services\",\"NAICS_cat2\"]=\"Accommodation and food services\"\n",
    "loans.loc[loans[\"NAICS_cat\"]==\"Other services (except public administration)\",\"NAICS_cat2\"]=\"Other\"\n",
    "loans.loc[loans[\"NAICS_cat\"]==\"Manufacturing\",\"NAICS_cat2\"]=\"Manufacturing\"\n",
    "loans.loc[loans[\"NAICS_cat\"]==\"Professional, scientific, and technical services\",\"NAICS_cat2\"]=\"Professional, scientific, and technical services\"\n",
    "loans.loc[loans[\"NAICS_cat\"]==\"Construction\",\"NAICS_cat2\"]=\"Construction\"\n",
    "loans.loc[loans[\"NAICS_cat\"]==\"Health care and social assistance\",\"NAICS_cat2\"]=\"Health care and social assistance\"\n",
    "loans.loc[loans[\"NAICS_cat2\"].isna(),\"NAICS_cat2\"]=\"Other\"\n",
    "loans.drop(\"NAICS_cat\",axis=1,inplace=True)"
   ]
  },
  {
   "cell_type": "code",
   "execution_count": 42,
   "metadata": {
    "scrolled": true
   },
   "outputs": [
    {
     "data": {
      "text/html": [
       "<div>\n",
       "<style scoped>\n",
       "    .dataframe tbody tr th:only-of-type {\n",
       "        vertical-align: middle;\n",
       "    }\n",
       "\n",
       "    .dataframe tbody tr th {\n",
       "        vertical-align: top;\n",
       "    }\n",
       "\n",
       "    .dataframe thead th {\n",
       "        text-align: right;\n",
       "    }\n",
       "</style>\n",
       "<table border=\"1\" class=\"dataframe\">\n",
       "  <thead>\n",
       "    <tr style=\"text-align: right;\">\n",
       "      <th></th>\n",
       "      <th>Term</th>\n",
       "      <th>NoEmp</th>\n",
       "      <th>DisbursementGross</th>\n",
       "      <th>BalanceGross</th>\n",
       "      <th>ChgOffPrinGr</th>\n",
       "      <th>GrAppv</th>\n",
       "      <th>SBA_Appv</th>\n",
       "      <th>timediff</th>\n",
       "      <th>NewExist_2.0</th>\n",
       "      <th>UrbanRural_2.0</th>\n",
       "      <th>RevLineCr_1.0</th>\n",
       "      <th>same_state_1.0</th>\n",
       "      <th>LowDoc_1</th>\n",
       "      <th>CreateJob_1</th>\n",
       "      <th>RetainedJob_1</th>\n",
       "      <th>NAICS_cat2_Construction</th>\n",
       "      <th>NAICS_cat2_Health care and social assistance</th>\n",
       "      <th>NAICS_cat2_Manufacturing</th>\n",
       "      <th>NAICS_cat2_Other</th>\n",
       "      <th>NAICS_cat2_Professional, scientific, and technical services</th>\n",
       "      <th>NAICS_cat2_Retail</th>\n",
       "    </tr>\n",
       "  </thead>\n",
       "  <tbody>\n",
       "    <tr>\n",
       "      <th>0</th>\n",
       "      <td>47</td>\n",
       "      <td>20</td>\n",
       "      <td>35000.0</td>\n",
       "      <td>0.0</td>\n",
       "      <td>13722.0</td>\n",
       "      <td>35000.0</td>\n",
       "      <td>17500.0</td>\n",
       "      <td>152236800.0</td>\n",
       "      <td>0</td>\n",
       "      <td>1</td>\n",
       "      <td>1</td>\n",
       "      <td>0</td>\n",
       "      <td>0</td>\n",
       "      <td>0</td>\n",
       "      <td>0</td>\n",
       "      <td>1</td>\n",
       "      <td>0</td>\n",
       "      <td>0</td>\n",
       "      <td>0</td>\n",
       "      <td>0</td>\n",
       "      <td>0</td>\n",
       "    </tr>\n",
       "    <tr>\n",
       "      <th>1</th>\n",
       "      <td>60</td>\n",
       "      <td>2</td>\n",
       "      <td>120000.0</td>\n",
       "      <td>0.0</td>\n",
       "      <td>0.0</td>\n",
       "      <td>120000.0</td>\n",
       "      <td>60000.0</td>\n",
       "      <td>10454400.0</td>\n",
       "      <td>1</td>\n",
       "      <td>0</td>\n",
       "      <td>0</td>\n",
       "      <td>0</td>\n",
       "      <td>0</td>\n",
       "      <td>0</td>\n",
       "      <td>0</td>\n",
       "      <td>0</td>\n",
       "      <td>0</td>\n",
       "      <td>0</td>\n",
       "      <td>1</td>\n",
       "      <td>0</td>\n",
       "      <td>0</td>\n",
       "    </tr>\n",
       "    <tr>\n",
       "      <th>2</th>\n",
       "      <td>84</td>\n",
       "      <td>7</td>\n",
       "      <td>20000.0</td>\n",
       "      <td>0.0</td>\n",
       "      <td>0.0</td>\n",
       "      <td>20000.0</td>\n",
       "      <td>10000.0</td>\n",
       "      <td>5097600.0</td>\n",
       "      <td>1</td>\n",
       "      <td>0</td>\n",
       "      <td>0</td>\n",
       "      <td>0</td>\n",
       "      <td>0</td>\n",
       "      <td>0</td>\n",
       "      <td>0</td>\n",
       "      <td>0</td>\n",
       "      <td>0</td>\n",
       "      <td>0</td>\n",
       "      <td>1</td>\n",
       "      <td>0</td>\n",
       "      <td>0</td>\n",
       "    </tr>\n",
       "    <tr>\n",
       "      <th>3</th>\n",
       "      <td>48</td>\n",
       "      <td>1</td>\n",
       "      <td>15000.0</td>\n",
       "      <td>0.0</td>\n",
       "      <td>0.0</td>\n",
       "      <td>15000.0</td>\n",
       "      <td>7500.0</td>\n",
       "      <td>2160000.0</td>\n",
       "      <td>1</td>\n",
       "      <td>0</td>\n",
       "      <td>0</td>\n",
       "      <td>0</td>\n",
       "      <td>0</td>\n",
       "      <td>0</td>\n",
       "      <td>0</td>\n",
       "      <td>0</td>\n",
       "      <td>0</td>\n",
       "      <td>0</td>\n",
       "      <td>1</td>\n",
       "      <td>0</td>\n",
       "      <td>0</td>\n",
       "    </tr>\n",
       "    <tr>\n",
       "      <th>4</th>\n",
       "      <td>84</td>\n",
       "      <td>55</td>\n",
       "      <td>102000.0</td>\n",
       "      <td>0.0</td>\n",
       "      <td>0.0</td>\n",
       "      <td>102000.0</td>\n",
       "      <td>51000.0</td>\n",
       "      <td>3801600.0</td>\n",
       "      <td>1</td>\n",
       "      <td>0</td>\n",
       "      <td>0</td>\n",
       "      <td>0</td>\n",
       "      <td>0</td>\n",
       "      <td>0</td>\n",
       "      <td>0</td>\n",
       "      <td>0</td>\n",
       "      <td>0</td>\n",
       "      <td>0</td>\n",
       "      <td>0</td>\n",
       "      <td>0</td>\n",
       "      <td>0</td>\n",
       "    </tr>\n",
       "    <tr>\n",
       "      <th>...</th>\n",
       "      <td>...</td>\n",
       "      <td>...</td>\n",
       "      <td>...</td>\n",
       "      <td>...</td>\n",
       "      <td>...</td>\n",
       "      <td>...</td>\n",
       "      <td>...</td>\n",
       "      <td>...</td>\n",
       "      <td>...</td>\n",
       "      <td>...</td>\n",
       "      <td>...</td>\n",
       "      <td>...</td>\n",
       "      <td>...</td>\n",
       "      <td>...</td>\n",
       "      <td>...</td>\n",
       "      <td>...</td>\n",
       "      <td>...</td>\n",
       "      <td>...</td>\n",
       "      <td>...</td>\n",
       "      <td>...</td>\n",
       "      <td>...</td>\n",
       "    </tr>\n",
       "    <tr>\n",
       "      <th>313700</th>\n",
       "      <td>14</td>\n",
       "      <td>25</td>\n",
       "      <td>15000.0</td>\n",
       "      <td>0.0</td>\n",
       "      <td>7327.0</td>\n",
       "      <td>15000.0</td>\n",
       "      <td>12750.0</td>\n",
       "      <td>86400.0</td>\n",
       "      <td>0</td>\n",
       "      <td>0</td>\n",
       "      <td>0</td>\n",
       "      <td>0</td>\n",
       "      <td>0</td>\n",
       "      <td>1</td>\n",
       "      <td>1</td>\n",
       "      <td>0</td>\n",
       "      <td>1</td>\n",
       "      <td>0</td>\n",
       "      <td>0</td>\n",
       "      <td>0</td>\n",
       "      <td>0</td>\n",
       "    </tr>\n",
       "    <tr>\n",
       "      <th>313701</th>\n",
       "      <td>252</td>\n",
       "      <td>5</td>\n",
       "      <td>852100.0</td>\n",
       "      <td>0.0</td>\n",
       "      <td>0.0</td>\n",
       "      <td>852100.0</td>\n",
       "      <td>639075.0</td>\n",
       "      <td>86400.0</td>\n",
       "      <td>1</td>\n",
       "      <td>1</td>\n",
       "      <td>0</td>\n",
       "      <td>0</td>\n",
       "      <td>0</td>\n",
       "      <td>0</td>\n",
       "      <td>1</td>\n",
       "      <td>0</td>\n",
       "      <td>0</td>\n",
       "      <td>0</td>\n",
       "      <td>1</td>\n",
       "      <td>0</td>\n",
       "      <td>0</td>\n",
       "    </tr>\n",
       "    <tr>\n",
       "      <th>313702</th>\n",
       "      <td>84</td>\n",
       "      <td>1</td>\n",
       "      <td>15000.0</td>\n",
       "      <td>0.0</td>\n",
       "      <td>0.0</td>\n",
       "      <td>15000.0</td>\n",
       "      <td>12750.0</td>\n",
       "      <td>86400.0</td>\n",
       "      <td>0</td>\n",
       "      <td>0</td>\n",
       "      <td>0</td>\n",
       "      <td>0</td>\n",
       "      <td>0</td>\n",
       "      <td>0</td>\n",
       "      <td>1</td>\n",
       "      <td>0</td>\n",
       "      <td>0</td>\n",
       "      <td>0</td>\n",
       "      <td>1</td>\n",
       "      <td>0</td>\n",
       "      <td>0</td>\n",
       "    </tr>\n",
       "    <tr>\n",
       "      <th>313703</th>\n",
       "      <td>84</td>\n",
       "      <td>5</td>\n",
       "      <td>5000.0</td>\n",
       "      <td>0.0</td>\n",
       "      <td>0.0</td>\n",
       "      <td>5000.0</td>\n",
       "      <td>4250.0</td>\n",
       "      <td>86400.0</td>\n",
       "      <td>0</td>\n",
       "      <td>0</td>\n",
       "      <td>0</td>\n",
       "      <td>0</td>\n",
       "      <td>0</td>\n",
       "      <td>1</td>\n",
       "      <td>1</td>\n",
       "      <td>0</td>\n",
       "      <td>0</td>\n",
       "      <td>0</td>\n",
       "      <td>1</td>\n",
       "      <td>0</td>\n",
       "      <td>0</td>\n",
       "    </tr>\n",
       "    <tr>\n",
       "      <th>313704</th>\n",
       "      <td>38</td>\n",
       "      <td>3</td>\n",
       "      <td>212400.0</td>\n",
       "      <td>0.0</td>\n",
       "      <td>0.0</td>\n",
       "      <td>212400.0</td>\n",
       "      <td>106200.0</td>\n",
       "      <td>86400.0</td>\n",
       "      <td>0</td>\n",
       "      <td>1</td>\n",
       "      <td>0</td>\n",
       "      <td>1</td>\n",
       "      <td>0</td>\n",
       "      <td>0</td>\n",
       "      <td>1</td>\n",
       "      <td>0</td>\n",
       "      <td>0</td>\n",
       "      <td>0</td>\n",
       "      <td>1</td>\n",
       "      <td>0</td>\n",
       "      <td>0</td>\n",
       "    </tr>\n",
       "  </tbody>\n",
       "</table>\n",
       "<p>313094 rows × 21 columns</p>\n",
       "</div>"
      ],
      "text/plain": [
       "        Term  NoEmp  DisbursementGross  BalanceGross  ChgOffPrinGr    GrAppv  \\\n",
       "0         47     20            35000.0           0.0       13722.0   35000.0   \n",
       "1         60      2           120000.0           0.0           0.0  120000.0   \n",
       "2         84      7            20000.0           0.0           0.0   20000.0   \n",
       "3         48      1            15000.0           0.0           0.0   15000.0   \n",
       "4         84     55           102000.0           0.0           0.0  102000.0   \n",
       "...      ...    ...                ...           ...           ...       ...   \n",
       "313700    14     25            15000.0           0.0        7327.0   15000.0   \n",
       "313701   252      5           852100.0           0.0           0.0  852100.0   \n",
       "313702    84      1            15000.0           0.0           0.0   15000.0   \n",
       "313703    84      5             5000.0           0.0           0.0    5000.0   \n",
       "313704    38      3           212400.0           0.0           0.0  212400.0   \n",
       "\n",
       "        SBA_Appv     timediff  NewExist_2.0  UrbanRural_2.0  RevLineCr_1.0  \\\n",
       "0        17500.0  152236800.0             0               1              1   \n",
       "1        60000.0   10454400.0             1               0              0   \n",
       "2        10000.0    5097600.0             1               0              0   \n",
       "3         7500.0    2160000.0             1               0              0   \n",
       "4        51000.0    3801600.0             1               0              0   \n",
       "...          ...          ...           ...             ...            ...   \n",
       "313700   12750.0      86400.0             0               0              0   \n",
       "313701  639075.0      86400.0             1               1              0   \n",
       "313702   12750.0      86400.0             0               0              0   \n",
       "313703    4250.0      86400.0             0               0              0   \n",
       "313704  106200.0      86400.0             0               1              0   \n",
       "\n",
       "        same_state_1.0  LowDoc_1  CreateJob_1  RetainedJob_1  \\\n",
       "0                    0         0            0              0   \n",
       "1                    0         0            0              0   \n",
       "2                    0         0            0              0   \n",
       "3                    0         0            0              0   \n",
       "4                    0         0            0              0   \n",
       "...                ...       ...          ...            ...   \n",
       "313700               0         0            1              1   \n",
       "313701               0         0            0              1   \n",
       "313702               0         0            0              1   \n",
       "313703               0         0            1              1   \n",
       "313704               1         0            0              1   \n",
       "\n",
       "        NAICS_cat2_Construction  NAICS_cat2_Health care and social assistance  \\\n",
       "0                             1                                             0   \n",
       "1                             0                                             0   \n",
       "2                             0                                             0   \n",
       "3                             0                                             0   \n",
       "4                             0                                             0   \n",
       "...                         ...                                           ...   \n",
       "313700                        0                                             1   \n",
       "313701                        0                                             0   \n",
       "313702                        0                                             0   \n",
       "313703                        0                                             0   \n",
       "313704                        0                                             0   \n",
       "\n",
       "        NAICS_cat2_Manufacturing  NAICS_cat2_Other  \\\n",
       "0                              0                 0   \n",
       "1                              0                 1   \n",
       "2                              0                 1   \n",
       "3                              0                 1   \n",
       "4                              0                 0   \n",
       "...                          ...               ...   \n",
       "313700                         0                 0   \n",
       "313701                         0                 1   \n",
       "313702                         0                 1   \n",
       "313703                         0                 1   \n",
       "313704                         0                 1   \n",
       "\n",
       "        NAICS_cat2_Professional, scientific, and technical services  \\\n",
       "0                                                       0             \n",
       "1                                                       0             \n",
       "2                                                       0             \n",
       "3                                                       0             \n",
       "4                                                       0             \n",
       "...                                                   ...             \n",
       "313700                                                  0             \n",
       "313701                                                  0             \n",
       "313702                                                  0             \n",
       "313703                                                  0             \n",
       "313704                                                  0             \n",
       "\n",
       "        NAICS_cat2_Retail  \n",
       "0                       0  \n",
       "1                       0  \n",
       "2                       0  \n",
       "3                       0  \n",
       "4                       0  \n",
       "...                   ...  \n",
       "313700                  0  \n",
       "313701                  0  \n",
       "313702                  0  \n",
       "313703                  0  \n",
       "313704                  0  \n",
       "\n",
       "[313094 rows x 21 columns]"
      ]
     },
     "execution_count": 42,
     "metadata": {},
     "output_type": "execute_result"
    }
   ],
   "source": [
    "#obtenemos variables categóricas\n",
    "categorical=[\"NewExist\",\"UrbanRural\",\"RevLineCr\",\"same_state\",\"LowDoc\",\"CreateJob\",\"RetainedJob\",\"NAICS_cat2\"]#seleccionar categoricas\n",
    "loans_dummies = pd.get_dummies(loans, columns = categorical,drop_first=True) #to get k-1 variables\n",
    "y=loans_dummies[\"paid\"]\n",
    "loans_dummies=loans_dummies.drop([\"ApprovalDate\",\"DisbursementDate\",\"business\",\"ID\",\"NAICStwo_digits\",\"Terms_comp\",\"paid\",\"DISBURSEMENTtimestamp\",\"APPROVALtimestamp\"],axis=1)\n",
    "loans_dummies"
   ]
  },
  {
   "cell_type": "code",
   "execution_count": 43,
   "metadata": {
    "scrolled": false
   },
   "outputs": [
    {
     "data": {
      "text/html": [
       "<div>\n",
       "<style scoped>\n",
       "    .dataframe tbody tr th:only-of-type {\n",
       "        vertical-align: middle;\n",
       "    }\n",
       "\n",
       "    .dataframe tbody tr th {\n",
       "        vertical-align: top;\n",
       "    }\n",
       "\n",
       "    .dataframe thead th {\n",
       "        text-align: right;\n",
       "    }\n",
       "</style>\n",
       "<table border=\"1\" class=\"dataframe\">\n",
       "  <thead>\n",
       "    <tr style=\"text-align: right;\">\n",
       "      <th></th>\n",
       "      <th>Term</th>\n",
       "      <th>NoEmp</th>\n",
       "      <th>DisbursementGross</th>\n",
       "      <th>BalanceGross</th>\n",
       "      <th>ChgOffPrinGr</th>\n",
       "      <th>GrAppv</th>\n",
       "      <th>SBA_Appv</th>\n",
       "      <th>timediff</th>\n",
       "      <th>NewExist_2.0</th>\n",
       "      <th>UrbanRural_2.0</th>\n",
       "      <th>RevLineCr_1.0</th>\n",
       "      <th>same_state_1.0</th>\n",
       "      <th>LowDoc_1</th>\n",
       "      <th>CreateJob_1</th>\n",
       "      <th>RetainedJob_1</th>\n",
       "      <th>NAICS_cat2_Construction</th>\n",
       "      <th>NAICS_cat2_Health care and social assistance</th>\n",
       "      <th>NAICS_cat2_Manufacturing</th>\n",
       "      <th>NAICS_cat2_Other</th>\n",
       "      <th>NAICS_cat2_Professional, scientific, and technical services</th>\n",
       "      <th>NAICS_cat2_Retail</th>\n",
       "    </tr>\n",
       "  </thead>\n",
       "  <tbody>\n",
       "    <tr>\n",
       "      <th>0</th>\n",
       "      <td>0.082601</td>\n",
       "      <td>0.002500</td>\n",
       "      <td>0.002963</td>\n",
       "      <td>0.0</td>\n",
       "      <td>0.006996</td>\n",
       "      <td>0.010003</td>\n",
       "      <td>0.005912</td>\n",
       "      <td>0.910632</td>\n",
       "      <td>0</td>\n",
       "      <td>1</td>\n",
       "      <td>1</td>\n",
       "      <td>0</td>\n",
       "      <td>0</td>\n",
       "      <td>0</td>\n",
       "      <td>0</td>\n",
       "      <td>1</td>\n",
       "      <td>0</td>\n",
       "      <td>0</td>\n",
       "      <td>0</td>\n",
       "      <td>0</td>\n",
       "      <td>0</td>\n",
       "    </tr>\n",
       "    <tr>\n",
       "      <th>1</th>\n",
       "      <td>0.105448</td>\n",
       "      <td>0.000250</td>\n",
       "      <td>0.011089</td>\n",
       "      <td>0.0</td>\n",
       "      <td>0.000000</td>\n",
       "      <td>0.035010</td>\n",
       "      <td>0.020692</td>\n",
       "      <td>0.278505</td>\n",
       "      <td>1</td>\n",
       "      <td>0</td>\n",
       "      <td>0</td>\n",
       "      <td>0</td>\n",
       "      <td>0</td>\n",
       "      <td>0</td>\n",
       "      <td>0</td>\n",
       "      <td>0</td>\n",
       "      <td>0</td>\n",
       "      <td>0</td>\n",
       "      <td>1</td>\n",
       "      <td>0</td>\n",
       "      <td>0</td>\n",
       "    </tr>\n",
       "    <tr>\n",
       "      <th>2</th>\n",
       "      <td>0.147627</td>\n",
       "      <td>0.000875</td>\n",
       "      <td>0.001529</td>\n",
       "      <td>0.0</td>\n",
       "      <td>0.000000</td>\n",
       "      <td>0.005590</td>\n",
       "      <td>0.003304</td>\n",
       "      <td>0.254622</td>\n",
       "      <td>1</td>\n",
       "      <td>0</td>\n",
       "      <td>0</td>\n",
       "      <td>0</td>\n",
       "      <td>0</td>\n",
       "      <td>0</td>\n",
       "      <td>0</td>\n",
       "      <td>0</td>\n",
       "      <td>0</td>\n",
       "      <td>0</td>\n",
       "      <td>1</td>\n",
       "      <td>0</td>\n",
       "      <td>0</td>\n",
       "    </tr>\n",
       "    <tr>\n",
       "      <th>3</th>\n",
       "      <td>0.084359</td>\n",
       "      <td>0.000125</td>\n",
       "      <td>0.001052</td>\n",
       "      <td>0.0</td>\n",
       "      <td>0.000000</td>\n",
       "      <td>0.004119</td>\n",
       "      <td>0.002434</td>\n",
       "      <td>0.241525</td>\n",
       "      <td>1</td>\n",
       "      <td>0</td>\n",
       "      <td>0</td>\n",
       "      <td>0</td>\n",
       "      <td>0</td>\n",
       "      <td>0</td>\n",
       "      <td>0</td>\n",
       "      <td>0</td>\n",
       "      <td>0</td>\n",
       "      <td>0</td>\n",
       "      <td>1</td>\n",
       "      <td>0</td>\n",
       "      <td>0</td>\n",
       "    </tr>\n",
       "    <tr>\n",
       "      <th>4</th>\n",
       "      <td>0.147627</td>\n",
       "      <td>0.006876</td>\n",
       "      <td>0.009368</td>\n",
       "      <td>0.0</td>\n",
       "      <td>0.000000</td>\n",
       "      <td>0.029715</td>\n",
       "      <td>0.017562</td>\n",
       "      <td>0.248844</td>\n",
       "      <td>1</td>\n",
       "      <td>0</td>\n",
       "      <td>0</td>\n",
       "      <td>0</td>\n",
       "      <td>0</td>\n",
       "      <td>0</td>\n",
       "      <td>0</td>\n",
       "      <td>0</td>\n",
       "      <td>0</td>\n",
       "      <td>0</td>\n",
       "      <td>0</td>\n",
       "      <td>0</td>\n",
       "      <td>0</td>\n",
       "    </tr>\n",
       "    <tr>\n",
       "      <th>...</th>\n",
       "      <td>...</td>\n",
       "      <td>...</td>\n",
       "      <td>...</td>\n",
       "      <td>...</td>\n",
       "      <td>...</td>\n",
       "      <td>...</td>\n",
       "      <td>...</td>\n",
       "      <td>...</td>\n",
       "      <td>...</td>\n",
       "      <td>...</td>\n",
       "      <td>...</td>\n",
       "      <td>...</td>\n",
       "      <td>...</td>\n",
       "      <td>...</td>\n",
       "      <td>...</td>\n",
       "      <td>...</td>\n",
       "      <td>...</td>\n",
       "      <td>...</td>\n",
       "      <td>...</td>\n",
       "      <td>...</td>\n",
       "      <td>...</td>\n",
       "    </tr>\n",
       "    <tr>\n",
       "      <th>313700</th>\n",
       "      <td>0.024605</td>\n",
       "      <td>0.003125</td>\n",
       "      <td>0.001052</td>\n",
       "      <td>0.0</td>\n",
       "      <td>0.003736</td>\n",
       "      <td>0.004119</td>\n",
       "      <td>0.004260</td>\n",
       "      <td>0.232280</td>\n",
       "      <td>0</td>\n",
       "      <td>0</td>\n",
       "      <td>0</td>\n",
       "      <td>0</td>\n",
       "      <td>0</td>\n",
       "      <td>1</td>\n",
       "      <td>1</td>\n",
       "      <td>0</td>\n",
       "      <td>1</td>\n",
       "      <td>0</td>\n",
       "      <td>0</td>\n",
       "      <td>0</td>\n",
       "      <td>0</td>\n",
       "    </tr>\n",
       "    <tr>\n",
       "      <th>313701</th>\n",
       "      <td>0.442882</td>\n",
       "      <td>0.000625</td>\n",
       "      <td>0.081073</td>\n",
       "      <td>0.0</td>\n",
       "      <td>0.000000</td>\n",
       "      <td>0.250397</td>\n",
       "      <td>0.222074</td>\n",
       "      <td>0.232280</td>\n",
       "      <td>1</td>\n",
       "      <td>1</td>\n",
       "      <td>0</td>\n",
       "      <td>0</td>\n",
       "      <td>0</td>\n",
       "      <td>0</td>\n",
       "      <td>1</td>\n",
       "      <td>0</td>\n",
       "      <td>0</td>\n",
       "      <td>0</td>\n",
       "      <td>1</td>\n",
       "      <td>0</td>\n",
       "      <td>0</td>\n",
       "    </tr>\n",
       "    <tr>\n",
       "      <th>313702</th>\n",
       "      <td>0.147627</td>\n",
       "      <td>0.000125</td>\n",
       "      <td>0.001052</td>\n",
       "      <td>0.0</td>\n",
       "      <td>0.000000</td>\n",
       "      <td>0.004119</td>\n",
       "      <td>0.004260</td>\n",
       "      <td>0.232280</td>\n",
       "      <td>0</td>\n",
       "      <td>0</td>\n",
       "      <td>0</td>\n",
       "      <td>0</td>\n",
       "      <td>0</td>\n",
       "      <td>0</td>\n",
       "      <td>1</td>\n",
       "      <td>0</td>\n",
       "      <td>0</td>\n",
       "      <td>0</td>\n",
       "      <td>1</td>\n",
       "      <td>0</td>\n",
       "      <td>0</td>\n",
       "    </tr>\n",
       "    <tr>\n",
       "      <th>313703</th>\n",
       "      <td>0.147627</td>\n",
       "      <td>0.000625</td>\n",
       "      <td>0.000096</td>\n",
       "      <td>0.0</td>\n",
       "      <td>0.000000</td>\n",
       "      <td>0.001177</td>\n",
       "      <td>0.001304</td>\n",
       "      <td>0.232280</td>\n",
       "      <td>0</td>\n",
       "      <td>0</td>\n",
       "      <td>0</td>\n",
       "      <td>0</td>\n",
       "      <td>0</td>\n",
       "      <td>1</td>\n",
       "      <td>1</td>\n",
       "      <td>0</td>\n",
       "      <td>0</td>\n",
       "      <td>0</td>\n",
       "      <td>1</td>\n",
       "      <td>0</td>\n",
       "      <td>0</td>\n",
       "    </tr>\n",
       "    <tr>\n",
       "      <th>313704</th>\n",
       "      <td>0.066784</td>\n",
       "      <td>0.000375</td>\n",
       "      <td>0.019922</td>\n",
       "      <td>0.0</td>\n",
       "      <td>0.000000</td>\n",
       "      <td>0.062195</td>\n",
       "      <td>0.036759</td>\n",
       "      <td>0.232280</td>\n",
       "      <td>0</td>\n",
       "      <td>1</td>\n",
       "      <td>0</td>\n",
       "      <td>1</td>\n",
       "      <td>0</td>\n",
       "      <td>0</td>\n",
       "      <td>1</td>\n",
       "      <td>0</td>\n",
       "      <td>0</td>\n",
       "      <td>0</td>\n",
       "      <td>1</td>\n",
       "      <td>0</td>\n",
       "      <td>0</td>\n",
       "    </tr>\n",
       "  </tbody>\n",
       "</table>\n",
       "<p>313094 rows × 21 columns</p>\n",
       "</div>"
      ],
      "text/plain": [
       "            Term     NoEmp  DisbursementGross  BalanceGross  ChgOffPrinGr  \\\n",
       "0       0.082601  0.002500           0.002963           0.0      0.006996   \n",
       "1       0.105448  0.000250           0.011089           0.0      0.000000   \n",
       "2       0.147627  0.000875           0.001529           0.0      0.000000   \n",
       "3       0.084359  0.000125           0.001052           0.0      0.000000   \n",
       "4       0.147627  0.006876           0.009368           0.0      0.000000   \n",
       "...          ...       ...                ...           ...           ...   \n",
       "313700  0.024605  0.003125           0.001052           0.0      0.003736   \n",
       "313701  0.442882  0.000625           0.081073           0.0      0.000000   \n",
       "313702  0.147627  0.000125           0.001052           0.0      0.000000   \n",
       "313703  0.147627  0.000625           0.000096           0.0      0.000000   \n",
       "313704  0.066784  0.000375           0.019922           0.0      0.000000   \n",
       "\n",
       "          GrAppv  SBA_Appv  timediff  NewExist_2.0  UrbanRural_2.0  \\\n",
       "0       0.010003  0.005912  0.910632             0               1   \n",
       "1       0.035010  0.020692  0.278505             1               0   \n",
       "2       0.005590  0.003304  0.254622             1               0   \n",
       "3       0.004119  0.002434  0.241525             1               0   \n",
       "4       0.029715  0.017562  0.248844             1               0   \n",
       "...          ...       ...       ...           ...             ...   \n",
       "313700  0.004119  0.004260  0.232280             0               0   \n",
       "313701  0.250397  0.222074  0.232280             1               1   \n",
       "313702  0.004119  0.004260  0.232280             0               0   \n",
       "313703  0.001177  0.001304  0.232280             0               0   \n",
       "313704  0.062195  0.036759  0.232280             0               1   \n",
       "\n",
       "        RevLineCr_1.0  same_state_1.0  LowDoc_1  CreateJob_1  RetainedJob_1  \\\n",
       "0                   1               0         0            0              0   \n",
       "1                   0               0         0            0              0   \n",
       "2                   0               0         0            0              0   \n",
       "3                   0               0         0            0              0   \n",
       "4                   0               0         0            0              0   \n",
       "...               ...             ...       ...          ...            ...   \n",
       "313700              0               0         0            1              1   \n",
       "313701              0               0         0            0              1   \n",
       "313702              0               0         0            0              1   \n",
       "313703              0               0         0            1              1   \n",
       "313704              0               1         0            0              1   \n",
       "\n",
       "        NAICS_cat2_Construction  NAICS_cat2_Health care and social assistance  \\\n",
       "0                             1                                             0   \n",
       "1                             0                                             0   \n",
       "2                             0                                             0   \n",
       "3                             0                                             0   \n",
       "4                             0                                             0   \n",
       "...                         ...                                           ...   \n",
       "313700                        0                                             1   \n",
       "313701                        0                                             0   \n",
       "313702                        0                                             0   \n",
       "313703                        0                                             0   \n",
       "313704                        0                                             0   \n",
       "\n",
       "        NAICS_cat2_Manufacturing  NAICS_cat2_Other  \\\n",
       "0                              0                 0   \n",
       "1                              0                 1   \n",
       "2                              0                 1   \n",
       "3                              0                 1   \n",
       "4                              0                 0   \n",
       "...                          ...               ...   \n",
       "313700                         0                 0   \n",
       "313701                         0                 1   \n",
       "313702                         0                 1   \n",
       "313703                         0                 1   \n",
       "313704                         0                 1   \n",
       "\n",
       "        NAICS_cat2_Professional, scientific, and technical services  \\\n",
       "0                                                       0             \n",
       "1                                                       0             \n",
       "2                                                       0             \n",
       "3                                                       0             \n",
       "4                                                       0             \n",
       "...                                                   ...             \n",
       "313700                                                  0             \n",
       "313701                                                  0             \n",
       "313702                                                  0             \n",
       "313703                                                  0             \n",
       "313704                                                  0             \n",
       "\n",
       "        NAICS_cat2_Retail  \n",
       "0                       0  \n",
       "1                       0  \n",
       "2                       0  \n",
       "3                       0  \n",
       "4                       0  \n",
       "...                   ...  \n",
       "313700                  0  \n",
       "313701                  0  \n",
       "313702                  0  \n",
       "313703                  0  \n",
       "313704                  0  \n",
       "\n",
       "[313094 rows x 21 columns]"
      ]
     },
     "execution_count": 43,
     "metadata": {},
     "output_type": "execute_result"
    }
   ],
   "source": [
    "scaled = scaler.fit_transform(loans_dummies[to_scale])\n",
    "loans_dummies[to_scale]=scaled\n",
    "loans_dummies"
   ]
  },
  {
   "cell_type": "code",
   "execution_count": 49,
   "metadata": {},
   "outputs": [],
   "source": [
    "#usaremos davies_bouldin_score\n",
    "#https://pyshark.com/davies-bouldin-index-for-k-means-clustering-evaluation-in-python/\n",
    "from sklearn.metrics import davies_bouldin_score\n",
    "from sklearn.cluster import KMeans\n",
    "import matplotlib.pyplot as  plt"
   ]
  },
  {
   "cell_type": "code",
   "execution_count": 53,
   "metadata": {
    "scrolled": true
   },
   "outputs": [
    {
     "name": "stdout",
     "output_type": "stream",
     "text": [
      "El index Davies-Bouldin en la iteración de 2 grupos es de:  2.1061374714697174\n",
      "El index Davies-Bouldin en la iteración de 3 grupos es de:  2.069744405811292\n",
      "El index Davies-Bouldin en la iteración de 4 grupos es de:  2.059598843071428\n",
      "El index Davies-Bouldin en la iteración de 5 grupos es de:  2.1669955823459452\n",
      "El index Davies-Bouldin en la iteración de 6 grupos es de:  2.0531456348996997\n",
      "El index Davies-Bouldin en la iteración de 7 grupos es de:  1.8767897017088884\n",
      "El index Davies-Bouldin en la iteración de 8 grupos es de:  1.8821845035888636\n",
      "El index Davies-Bouldin en la iteración de 9 grupos es de:  1.9668664356732017\n"
     ]
    }
   ],
   "source": [
    "comparisondb=[]\n",
    "models=[]\n",
    "for e in range(2,10):\n",
    "    kmeans = KMeans(e,random_state=12)\n",
    "    clusters = kmeans.fit_predict(loans_dummies)\n",
    "    db_index = davies_bouldin_score(loans_dummies, clusters)\n",
    "    comparisondb.append(db_index)\n",
    "    models.append(clusters)\n",
    "    print(f\"El index Davies-Bouldin en la iteración de {e} grupos es de: \",db_index)\n",
    "\n",
    "bestmodel=models[comparisondb.index(min(comparisondb))]"
   ]
  },
  {
   "cell_type": "code",
   "execution_count": 70,
   "metadata": {},
   "outputs": [
    {
     "data": {
      "image/png": "[encoded data removed]",
      "text/plain": [
       "<Figure size 432x288 with 1 Axes>"
      ]
     },
     "metadata": {
      "needs_background": "light"
     },
     "output_type": "display_data"
    }
   ],
   "source": [
    "plt.plot(comparisondb)\n",
    "plt.xlabel(\"Number of clusters\")\n",
    "plt.ylabel(\"Davies-Boulding Index\")\n",
    "plt.show()"
   ]
  },
  {
   "cell_type": "code",
   "execution_count": 65,
   "metadata": {},
   "outputs": [
    {
     "data": {
      "text/plain": [
       "313094"
      ]
     },
     "execution_count": 65,
     "metadata": {},
     "output_type": "execute_result"
    }
   ],
   "source": [
    "list(bestmodel)"
   ]
  },
  {
   "cell_type": "code",
   "execution_count": 68,
   "metadata": {
    "collapsed": true
   },
   "outputs": [
    {
     "data": {
      "text/html": [
       "<div>\n",
       "<style scoped>\n",
       "    .dataframe tbody tr th:only-of-type {\n",
       "        vertical-align: middle;\n",
       "    }\n",
       "\n",
       "    .dataframe tbody tr th {\n",
       "        vertical-align: top;\n",
       "    }\n",
       "\n",
       "    .dataframe thead th {\n",
       "        text-align: right;\n",
       "    }\n",
       "</style>\n",
       "<table border=\"1\" class=\"dataframe\">\n",
       "  <thead>\n",
       "    <tr style=\"text-align: right;\">\n",
       "      <th></th>\n",
       "      <th>Term</th>\n",
       "      <th>NoEmp</th>\n",
       "      <th>DisbursementGross</th>\n",
       "      <th>BalanceGross</th>\n",
       "      <th>ChgOffPrinGr</th>\n",
       "      <th>GrAppv</th>\n",
       "      <th>SBA_Appv</th>\n",
       "      <th>timediff</th>\n",
       "      <th>NewExist_2.0</th>\n",
       "      <th>UrbanRural_2.0</th>\n",
       "      <th>RevLineCr_1.0</th>\n",
       "      <th>same_state_1.0</th>\n",
       "      <th>LowDoc_1</th>\n",
       "      <th>CreateJob_1</th>\n",
       "      <th>RetainedJob_1</th>\n",
       "      <th>NAICS_cat2_Construction</th>\n",
       "      <th>NAICS_cat2_Health care and social assistance</th>\n",
       "      <th>NAICS_cat2_Manufacturing</th>\n",
       "      <th>NAICS_cat2_Other</th>\n",
       "      <th>NAICS_cat2_Professional, scientific, and technical services</th>\n",
       "      <th>NAICS_cat2_Retail</th>\n",
       "      <th>cluster</th>\n",
       "    </tr>\n",
       "  </thead>\n",
       "  <tbody>\n",
       "    <tr>\n",
       "      <th>0</th>\n",
       "      <td>0.082601</td>\n",
       "      <td>0.002500</td>\n",
       "      <td>0.002963</td>\n",
       "      <td>0.0</td>\n",
       "      <td>0.006996</td>\n",
       "      <td>0.010003</td>\n",
       "      <td>0.005912</td>\n",
       "      <td>0.910632</td>\n",
       "      <td>0</td>\n",
       "      <td>1</td>\n",
       "      <td>1</td>\n",
       "      <td>0</td>\n",
       "      <td>0</td>\n",
       "      <td>0</td>\n",
       "      <td>0</td>\n",
       "      <td>1</td>\n",
       "      <td>0</td>\n",
       "      <td>0</td>\n",
       "      <td>0</td>\n",
       "      <td>0</td>\n",
       "      <td>0</td>\n",
       "      <td>0</td>\n",
       "    </tr>\n",
       "    <tr>\n",
       "      <th>1</th>\n",
       "      <td>0.105448</td>\n",
       "      <td>0.000250</td>\n",
       "      <td>0.011089</td>\n",
       "      <td>0.0</td>\n",
       "      <td>0.000000</td>\n",
       "      <td>0.035010</td>\n",
       "      <td>0.020692</td>\n",
       "      <td>0.278505</td>\n",
       "      <td>1</td>\n",
       "      <td>0</td>\n",
       "      <td>0</td>\n",
       "      <td>0</td>\n",
       "      <td>0</td>\n",
       "      <td>0</td>\n",
       "      <td>0</td>\n",
       "      <td>0</td>\n",
       "      <td>0</td>\n",
       "      <td>0</td>\n",
       "      <td>1</td>\n",
       "      <td>0</td>\n",
       "      <td>0</td>\n",
       "      <td>6</td>\n",
       "    </tr>\n",
       "    <tr>\n",
       "      <th>2</th>\n",
       "      <td>0.147627</td>\n",
       "      <td>0.000875</td>\n",
       "      <td>0.001529</td>\n",
       "      <td>0.0</td>\n",
       "      <td>0.000000</td>\n",
       "      <td>0.005590</td>\n",
       "      <td>0.003304</td>\n",
       "      <td>0.254622</td>\n",
       "      <td>1</td>\n",
       "      <td>0</td>\n",
       "      <td>0</td>\n",
       "      <td>0</td>\n",
       "      <td>0</td>\n",
       "      <td>0</td>\n",
       "      <td>0</td>\n",
       "      <td>0</td>\n",
       "      <td>0</td>\n",
       "      <td>0</td>\n",
       "      <td>1</td>\n",
       "      <td>0</td>\n",
       "      <td>0</td>\n",
       "      <td>6</td>\n",
       "    </tr>\n",
       "    <tr>\n",
       "      <th>3</th>\n",
       "      <td>0.084359</td>\n",
       "      <td>0.000125</td>\n",
       "      <td>0.001052</td>\n",
       "      <td>0.0</td>\n",
       "      <td>0.000000</td>\n",
       "      <td>0.004119</td>\n",
       "      <td>0.002434</td>\n",
       "      <td>0.241525</td>\n",
       "      <td>1</td>\n",
       "      <td>0</td>\n",
       "      <td>0</td>\n",
       "      <td>0</td>\n",
       "      <td>0</td>\n",
       "      <td>0</td>\n",
       "      <td>0</td>\n",
       "      <td>0</td>\n",
       "      <td>0</td>\n",
       "      <td>0</td>\n",
       "      <td>1</td>\n",
       "      <td>0</td>\n",
       "      <td>0</td>\n",
       "      <td>6</td>\n",
       "    </tr>\n",
       "    <tr>\n",
       "      <th>4</th>\n",
       "      <td>0.147627</td>\n",
       "      <td>0.006876</td>\n",
       "      <td>0.009368</td>\n",
       "      <td>0.0</td>\n",
       "      <td>0.000000</td>\n",
       "      <td>0.029715</td>\n",
       "      <td>0.017562</td>\n",
       "      <td>0.248844</td>\n",
       "      <td>1</td>\n",
       "      <td>0</td>\n",
       "      <td>0</td>\n",
       "      <td>0</td>\n",
       "      <td>0</td>\n",
       "      <td>0</td>\n",
       "      <td>0</td>\n",
       "      <td>0</td>\n",
       "      <td>0</td>\n",
       "      <td>0</td>\n",
       "      <td>0</td>\n",
       "      <td>0</td>\n",
       "      <td>0</td>\n",
       "      <td>1</td>\n",
       "    </tr>\n",
       "    <tr>\n",
       "      <th>...</th>\n",
       "      <td>...</td>\n",
       "      <td>...</td>\n",
       "      <td>...</td>\n",
       "      <td>...</td>\n",
       "      <td>...</td>\n",
       "      <td>...</td>\n",
       "      <td>...</td>\n",
       "      <td>...</td>\n",
       "      <td>...</td>\n",
       "      <td>...</td>\n",
       "      <td>...</td>\n",
       "      <td>...</td>\n",
       "      <td>...</td>\n",
       "      <td>...</td>\n",
       "      <td>...</td>\n",
       "      <td>...</td>\n",
       "      <td>...</td>\n",
       "      <td>...</td>\n",
       "      <td>...</td>\n",
       "      <td>...</td>\n",
       "      <td>...</td>\n",
       "      <td>...</td>\n",
       "    </tr>\n",
       "    <tr>\n",
       "      <th>313700</th>\n",
       "      <td>0.024605</td>\n",
       "      <td>0.003125</td>\n",
       "      <td>0.001052</td>\n",
       "      <td>0.0</td>\n",
       "      <td>0.003736</td>\n",
       "      <td>0.004119</td>\n",
       "      <td>0.004260</td>\n",
       "      <td>0.232280</td>\n",
       "      <td>0</td>\n",
       "      <td>0</td>\n",
       "      <td>0</td>\n",
       "      <td>0</td>\n",
       "      <td>0</td>\n",
       "      <td>1</td>\n",
       "      <td>1</td>\n",
       "      <td>0</td>\n",
       "      <td>1</td>\n",
       "      <td>0</td>\n",
       "      <td>0</td>\n",
       "      <td>0</td>\n",
       "      <td>0</td>\n",
       "      <td>5</td>\n",
       "    </tr>\n",
       "    <tr>\n",
       "      <th>313701</th>\n",
       "      <td>0.442882</td>\n",
       "      <td>0.000625</td>\n",
       "      <td>0.081073</td>\n",
       "      <td>0.0</td>\n",
       "      <td>0.000000</td>\n",
       "      <td>0.250397</td>\n",
       "      <td>0.222074</td>\n",
       "      <td>0.232280</td>\n",
       "      <td>1</td>\n",
       "      <td>1</td>\n",
       "      <td>0</td>\n",
       "      <td>0</td>\n",
       "      <td>0</td>\n",
       "      <td>0</td>\n",
       "      <td>1</td>\n",
       "      <td>0</td>\n",
       "      <td>0</td>\n",
       "      <td>0</td>\n",
       "      <td>1</td>\n",
       "      <td>0</td>\n",
       "      <td>0</td>\n",
       "      <td>0</td>\n",
       "    </tr>\n",
       "    <tr>\n",
       "      <th>313702</th>\n",
       "      <td>0.147627</td>\n",
       "      <td>0.000125</td>\n",
       "      <td>0.001052</td>\n",
       "      <td>0.0</td>\n",
       "      <td>0.000000</td>\n",
       "      <td>0.004119</td>\n",
       "      <td>0.004260</td>\n",
       "      <td>0.232280</td>\n",
       "      <td>0</td>\n",
       "      <td>0</td>\n",
       "      <td>0</td>\n",
       "      <td>0</td>\n",
       "      <td>0</td>\n",
       "      <td>0</td>\n",
       "      <td>1</td>\n",
       "      <td>0</td>\n",
       "      <td>0</td>\n",
       "      <td>0</td>\n",
       "      <td>1</td>\n",
       "      <td>0</td>\n",
       "      <td>0</td>\n",
       "      <td>0</td>\n",
       "    </tr>\n",
       "    <tr>\n",
       "      <th>313703</th>\n",
       "      <td>0.147627</td>\n",
       "      <td>0.000625</td>\n",
       "      <td>0.000096</td>\n",
       "      <td>0.0</td>\n",
       "      <td>0.000000</td>\n",
       "      <td>0.001177</td>\n",
       "      <td>0.001304</td>\n",
       "      <td>0.232280</td>\n",
       "      <td>0</td>\n",
       "      <td>0</td>\n",
       "      <td>0</td>\n",
       "      <td>0</td>\n",
       "      <td>0</td>\n",
       "      <td>1</td>\n",
       "      <td>1</td>\n",
       "      <td>0</td>\n",
       "      <td>0</td>\n",
       "      <td>0</td>\n",
       "      <td>1</td>\n",
       "      <td>0</td>\n",
       "      <td>0</td>\n",
       "      <td>2</td>\n",
       "    </tr>\n",
       "    <tr>\n",
       "      <th>313704</th>\n",
       "      <td>0.066784</td>\n",
       "      <td>0.000375</td>\n",
       "      <td>0.019922</td>\n",
       "      <td>0.0</td>\n",
       "      <td>0.000000</td>\n",
       "      <td>0.062195</td>\n",
       "      <td>0.036759</td>\n",
       "      <td>0.232280</td>\n",
       "      <td>0</td>\n",
       "      <td>1</td>\n",
       "      <td>0</td>\n",
       "      <td>1</td>\n",
       "      <td>0</td>\n",
       "      <td>0</td>\n",
       "      <td>1</td>\n",
       "      <td>0</td>\n",
       "      <td>0</td>\n",
       "      <td>0</td>\n",
       "      <td>1</td>\n",
       "      <td>0</td>\n",
       "      <td>0</td>\n",
       "      <td>6</td>\n",
       "    </tr>\n",
       "  </tbody>\n",
       "</table>\n",
       "<p>313094 rows × 22 columns</p>\n",
       "</div>"
      ],
      "text/plain": [
       "            Term     NoEmp  DisbursementGross  BalanceGross  ChgOffPrinGr  \\\n",
       "0       0.082601  0.002500           0.002963           0.0      0.006996   \n",
       "1       0.105448  0.000250           0.011089           0.0      0.000000   \n",
       "2       0.147627  0.000875           0.001529           0.0      0.000000   \n",
       "3       0.084359  0.000125           0.001052           0.0      0.000000   \n",
       "4       0.147627  0.006876           0.009368           0.0      0.000000   \n",
       "...          ...       ...                ...           ...           ...   \n",
       "313700  0.024605  0.003125           0.001052           0.0      0.003736   \n",
       "313701  0.442882  0.000625           0.081073           0.0      0.000000   \n",
       "313702  0.147627  0.000125           0.001052           0.0      0.000000   \n",
       "313703  0.147627  0.000625           0.000096           0.0      0.000000   \n",
       "313704  0.066784  0.000375           0.019922           0.0      0.000000   \n",
       "\n",
       "          GrAppv  SBA_Appv  timediff  NewExist_2.0  UrbanRural_2.0  \\\n",
       "0       0.010003  0.005912  0.910632             0               1   \n",
       "1       0.035010  0.020692  0.278505             1               0   \n",
       "2       0.005590  0.003304  0.254622             1               0   \n",
       "3       0.004119  0.002434  0.241525             1               0   \n",
       "4       0.029715  0.017562  0.248844             1               0   \n",
       "...          ...       ...       ...           ...             ...   \n",
       "313700  0.004119  0.004260  0.232280             0               0   \n",
       "313701  0.250397  0.222074  0.232280             1               1   \n",
       "313702  0.004119  0.004260  0.232280             0               0   \n",
       "313703  0.001177  0.001304  0.232280             0               0   \n",
       "313704  0.062195  0.036759  0.232280             0               1   \n",
       "\n",
       "        RevLineCr_1.0  same_state_1.0  LowDoc_1  CreateJob_1  RetainedJob_1  \\\n",
       "0                   1               0         0            0              0   \n",
       "1                   0               0         0            0              0   \n",
       "2                   0               0         0            0              0   \n",
       "3                   0               0         0            0              0   \n",
       "4                   0               0         0            0              0   \n",
       "...               ...             ...       ...          ...            ...   \n",
       "313700              0               0         0            1              1   \n",
       "313701              0               0         0            0              1   \n",
       "313702              0               0         0            0              1   \n",
       "313703              0               0         0            1              1   \n",
       "313704              0               1         0            0              1   \n",
       "\n",
       "        NAICS_cat2_Construction  NAICS_cat2_Health care and social assistance  \\\n",
       "0                             1                                             0   \n",
       "1                             0                                             0   \n",
       "2                             0                                             0   \n",
       "3                             0                                             0   \n",
       "4                             0                                             0   \n",
       "...                         ...                                           ...   \n",
       "313700                        0                                             1   \n",
       "313701                        0                                             0   \n",
       "313702                        0                                             0   \n",
       "313703                        0                                             0   \n",
       "313704                        0                                             0   \n",
       "\n",
       "        NAICS_cat2_Manufacturing  NAICS_cat2_Other  \\\n",
       "0                              0                 0   \n",
       "1                              0                 1   \n",
       "2                              0                 1   \n",
       "3                              0                 1   \n",
       "4                              0                 0   \n",
       "...                          ...               ...   \n",
       "313700                         0                 0   \n",
       "313701                         0                 1   \n",
       "313702                         0                 1   \n",
       "313703                         0                 1   \n",
       "313704                         0                 1   \n",
       "\n",
       "        NAICS_cat2_Professional, scientific, and technical services  \\\n",
       "0                                                       0             \n",
       "1                                                       0             \n",
       "2                                                       0             \n",
       "3                                                       0             \n",
       "4                                                       0             \n",
       "...                                                   ...             \n",
       "313700                                                  0             \n",
       "313701                                                  0             \n",
       "313702                                                  0             \n",
       "313703                                                  0             \n",
       "313704                                                  0             \n",
       "\n",
       "        NAICS_cat2_Retail  cluster  \n",
       "0                       0        0  \n",
       "1                       0        6  \n",
       "2                       0        6  \n",
       "3                       0        6  \n",
       "4                       0        1  \n",
       "...                   ...      ...  \n",
       "313700                  0        5  \n",
       "313701                  0        0  \n",
       "313702                  0        0  \n",
       "313703                  0        2  \n",
       "313704                  0        6  \n",
       "\n",
       "[313094 rows x 22 columns]"
      ]
     },
     "execution_count": 68,
     "metadata": {},
     "output_type": "execute_result"
    }
   ],
   "source": [
    "groups = loans_dummies.copy()\n",
    "groups[\"cluster\"]=list(bestmodel)\n",
    "groups"
   ]
  },
  {
   "cell_type": "code",
   "execution_count": 71,
   "metadata": {},
   "outputs": [],
   "source": [
    "groups.to_csv(path+\"kmeansgroupsloans.csv\",index=False)"
   ]
  },
  {
   "cell_type": "code",
   "execution_count": 73,
   "metadata": {},
   "outputs": [],
   "source": [
    "loans.to_csv(path+\"loansmodified3.csv\",index=False)\n",
    "loans_dummies.to_csv(path+\"loans_dummies.csv\",index=False)"
   ]
  },
  {
   "cell_type": "code",
   "execution_count": null,
   "metadata": {},
   "outputs": [],
   "source": []
  }
 ],
 "metadata": {
  "kernelspec": {
   "display_name": "Python 3",
   "language": "python",
   "name": "python3"
  },
  "language_info": {
   "codemirror_mode": {
    "name": "ipython",
    "version": 3
   },
   "file_extension": ".py",
   "mimetype": "text/x-python",
   "name": "python",
   "nbconvert_exporter": "python",
   "pygments_lexer": "ipython3",
   "version": "3.7.9"
  }
 },
 "nbformat": 4,
 "nbformat_minor": 4
}
