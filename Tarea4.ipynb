{
  "nbformat": 4,
  "nbformat_minor": 0,
  "metadata": {
    "colab": {
      "provenance": [],
      "authorship_tag": "ABX9TyMX1BM5cs/eoxMcAYnGjBQH",
      "include_colab_link": true
    },
    "kernelspec": {
      "name": "python3",
      "display_name": "Python 3"
    },
    "language_info": {
      "name": "python"
    }
  },
  "cells": [
    {
      "cell_type": "markdown",
      "metadata": {
        "id": "view-in-github",
        "colab_type": "text"
      },
      "source": [
        "<a href=\"https://colab.research.google.com/github/ArnoldoOliva/AprendizajeAutomatico/blob/main/Tarea4.ipynb\" target=\"_parent\"><img src=\"https://colab.research.google.com/assets/colab-badge.svg\" alt=\"Open In Colab\"/></a>"
      ]
    },
    {
      "cell_type": "code",
      "execution_count": 1,
      "metadata": {
        "id": "8dalqOyk0vBJ"
      },
      "outputs": [],
      "source": [
        "### Parte 1 de la tarea"
      ]
    },
    {
      "cell_type": "markdown",
      "source": [
        "## DBSCAN"
      ],
      "metadata": {
        "id": "9XGD6h8M-t77"
      }
    },
    {
      "cell_type": "markdown",
      "source": [
        "Este algoritmo tiene las siguientes características:\n",
        "* Para cada dato delimitamos el número de puntos al mismo a una distancia máxima, y esta zona la nombramos \"vecindad de observación\".\n",
        "* Se cuenta con una observación central si la observación cuenta con al menos un cierto número de vecino, incluido ella misma.\n",
        "* Todos los puntos dentro de la vecindad de una observación central conforman un cluster. Por lo que puede haber varias observaciones centrales que formen un único cluster.\n",
        "* Las observaciones que no son centrales y que no tienen alguna otra observación central en su vecindad se le llama anomalías, se ubican generalmente por fuera de los clusters.\n",
        "\n",
        "Se tienen que definir tanto la distancia epsilon para cada observación y el número mínimo de vecinos para considerar una observación como central.\n",
        "\n",
        "Usualmente este algoritmo usa la distancia euclideana, y con este algoritmo no es necesario definir per se el número de clusters, por lo que el criterio más  importante a evaluar es determinar que distancia epsilon se utilizará.\n",
        "\n",
        "Este algoritmo podría funcionar con mi set de datos debido a que a diferencia otros algoritmos de clustering, puede trabajar con posibles anomalías que no se ajusten a los clusters, y además de los supuestos que no requieren definir con anterioridad un número de grupos, sino que se van definiendo conforme trabaja el algoritmo.\n",
        "\n",
        "\n",
        "Redac, T. (2022, 29 noviembre). Machine Learning & Clustering: el algoritmo DBSCAN. Formation Data Science | DataScientest.com. https://datascientest.com/es/machine-learning-clustering-dbscan\n",
        "\n"
      ],
      "metadata": {
        "id": "oIfQEMAn_ODH"
      }
    },
    {
      "cell_type": "markdown",
      "source": [],
      "metadata": {
        "id": "BjWwapgiCvX3"
      }
    }
  ]
}