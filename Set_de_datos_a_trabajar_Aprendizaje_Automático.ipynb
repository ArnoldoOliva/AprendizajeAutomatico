{
  "nbformat": 4,
  "nbformat_minor": 0,
  "metadata": {
    "colab": {
      "provenance": [],
      "authorship_tag": "ABX9TyOdlzvxOulfMFoKQKa+rgUb",
      "include_colab_link": true
    },
    "kernelspec": {
      "name": "python3",
      "display_name": "Python 3"
    },
    "language_info": {
      "name": "python"
    }
  },
  "cells": [
    {
      "cell_type": "markdown",
      "metadata": {
        "id": "view-in-github",
        "colab_type": "text"
      },
      "source": [
        "<a href=\"https://colab.research.google.com/github/ArnoldoOliva/AprendizajeAutomatico/blob/main/Set_de_datos_a_trabajar_Aprendizaje_Autom%C3%A1tico.ipynb\" target=\"_parent\"><img src=\"https://colab.research.google.com/assets/colab-badge.svg\" alt=\"Open In Colab\"/></a>"
      ]
    },
    {
      "cell_type": "code",
      "execution_count": null,
      "metadata": {
        "id": "ezOQS5n7dbMx"
      },
      "outputs": [],
      "source": []
    },
    {
      "cell_type": "markdown",
      "source": [
        "# UANL\n",
        "## FCFM\n",
        "### Aprendizaje Automático\n",
        "\n",
        "#**Proyecto: Base de datos a utilizar durante el resto del curso:**"
      ],
      "metadata": {
        "id": "1MIljyNldjfe"
      }
    },
    {
      "cell_type": "code",
      "source": [],
      "metadata": {
        "id": "kzueVHZvd4yg"
      },
      "execution_count": null,
      "outputs": []
    },
    {
      "cell_type": "markdown",
      "source": [
        "Durante el presente curso se utilizará una base de datos referente a información sobre los préstamos que se han realizado a cientos de pequeñas y medianas empresas en los EE.UU. de un periodo de tiempo de la década de 1960 al 2014. \n",
        "\n",
        "Este set de datos fue primeramente capturado desde el sitio Kaggle, pero  provisto primeramente por un website llamado \"Tandofline\" el cual sirve para poder explorar sobre ciertos papers y journals.\n",
        "\n",
        "La información ha sido recopilada por la \" U.S. Small Business Administration (SBA)\", la cual tiene el objetivo de facilitar y promover el acceso al crédito a las pequeñas empresas (principalmente) de Estados Unidos, bajo la premisa de que \"el fomento a la formación del negocio pequeño y su crecimiento tiene el beneficio social de la creación del empleo y la reducción de la pobreza\" (Kaggle, 2022).\n",
        "\n",
        "La pregunta que se hace el sitio es sobre si el préstamo debería de ser aprobado o no, por lo que se buscan realizar los siguientes objetivos a lo largo del curso:\n",
        "\n",
        "* Ya sea mediante identificación de patrones/grupos o identificación de interacciones importantes entre las mismas variables, encontrar determinantes sobre que deberiamos tomar en cuenta a la hora de identificar si un préstamo va a poder ser pagado.\n",
        "* Desarrollar algún modelo de ML, ya sea de clasificación o regresión, para poder predecir con una exactitud considerable lo anteriormente dicho.\n",
        "\n",
        "El set de información contiene 27 filas y alrededor de 900k registros. Cabe aclarar que lo más probable es que no se use la totalidad de la data (ya sea en registros y en columnas).\n",
        "\n",
        "Ahondando un poco más en las columnas, los datos abarcan información sobre:\n",
        "- Identificación: ID, nombre de la empresa, nombre del banco.\n",
        "- Geográficos: estado en EEUU de la empresa, zipcodes, estado del banco.\n",
        "-  Datos de la empresa como número de empleados, si es recientemente creada, números de empleos creados, si es franquicia, etc.\n",
        "- Datos del préstamo como monto del mismo, revolving line, low doc loan, si fue declarado en default, último estado del préstamo etc.\n",
        "\n",
        "\n",
        "Se puede acceder a la información en las dos ligas de referencias que se colocan abajo:\n",
        "\n",
        "Should This Loan be Approved or Denied? (2020, 18 marzo). Kaggle. https://www.kaggle.com/datasets/mirbektoktogaraev/should-this-loan-be-approved-or-denied\n",
        "\n",
        "âShould This Loan be Approved or Denied?â: A Large Dataset with Class Assignment Guidelines. (s. f.). Taylor & Francis. https://www.tandfonline.com/doi/full/10.1080/10691898.2018.1434342?cookieSet=1\n",
        "\n"
      ],
      "metadata": {
        "id": "xqtAbJ4Fd5PY"
      }
    },
    {
      "cell_type": "code",
      "source": [],
      "metadata": {
        "id": "zqLcPGqIiURL"
      },
      "execution_count": null,
      "outputs": []
    }
  ]
}